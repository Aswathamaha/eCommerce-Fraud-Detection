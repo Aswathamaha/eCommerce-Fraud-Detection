{
 "cells": [
  {
   "cell_type": "markdown",
   "metadata": {},
   "source": [
    "# Data dictionary\n",
    "### Fraud_Data\n",
    "**Information about each user first transaction**<br><br>\n",
    "Columns:\n",
    "- user_id: Unique user ID\n",
    "- signup_time: The time when the user created their account (GMT time)\n",
    "- purchase_time: The time when the user bought the item (GMT time)\n",
    "- purchase_value: The cost of the item purchased (USD)\n",
    "- device_id: The device id. You can assume that it is unique by device. (If two transactions have the same device ID that means that the same physical device was used to purchase)\n",
    "- source: User marketing channel: ads, SEO, direct\n",
    "- browser: The browser used by the user.\n",
    "- sex: User sex: Male/Female\n",
    "- age: user age\n",
    "- ip_address: user numeric IP address\n",
    "- class: This is the target variable. Fraudulent activities is tagged as ‘1’, whereas non-fraudulent activities are tagged as ‘0’\n",
    "\n",
    "### IpAddress_to_Country\n",
    "**This dataset is used to map each numeric IP address to its country. For each country, it gives a range. If the numeric IP address falls within the range, then the IP address belongs to the corresponding country.** <br><br>\n",
    "Columns:\n",
    "- lower_bound_ip_address: The lower bound of the numeric IP address for that country\n",
    "- upper_bound_ip_address: The upper bound of the numeric IP address for that country\n",
    "- country: The corresponding country. If a user has an IP address whose value is within the upper and lower bound, then they are based in this country."
   ]
  }
 ],
 "metadata": {
  "kernelspec": {
   "display_name": "Python 3",
   "language": "python",
   "name": "python3"
  },
  "language_info": {
   "codemirror_mode": {
    "name": "ipython",
    "version": 3
   },
   "file_extension": ".py",
   "mimetype": "text/x-python",
   "name": "python",
   "nbconvert_exporter": "python",
   "pygments_lexer": "ipython3",
   "version": "3.7.1"
  }
 },
 "nbformat": 4,
 "nbformat_minor": 2
}

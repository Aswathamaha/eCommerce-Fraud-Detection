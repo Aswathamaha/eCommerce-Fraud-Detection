{
 "cells": [
  {
   "cell_type": "markdown",
   "metadata": {},
   "source": [
    "## eCommerce Fraud Detection\n",
    "**Laura Roman** <br>\n",
    "**April 2019**"
   ]
  },
  {
   "cell_type": "markdown",
   "metadata": {},
   "source": [
    "### Summary "
   ]
  },
  {
   "cell_type": "markdown",
   "metadata": {},
   "source": [
    "**The objective of this analysis are to create a fraud-detection algorithm to flag a transition as fraudulent or not based on a single transaction.**\n",
    "\n",
    "Some specific points to discuss are: <br>\n",
    "**1. For each user, determine their country based on the numeric IP address**<br>\n",
    "This is done in Step ii. Load the Data, using a conditional .loc function.\n",
    "<br>\n",
    "\n",
    "**2. Identify & explain evaluation metrics did you use to select a model and why:** <br>\n",
    "RandomForest Classifier as the best model of those tried, which I evualated based on precision and recall (using the f1-score, which balances these two metrics) due to the high cost associate with false negatives (a fraudulent transaction flagged as legitimate).\n",
    "Precision was 69% and recall was 65% (a decrease from 99%, 98% respectly once model was running on a new undersampling of the data, thus calling for additinal validation and tuning). \n",
    "    \n",
    "**3. Outline use of this model to detect fraud in real-time** <br>\n",
    "Once the data transformation and modeling code are summarized in a script, this model could to run on a new set of data or one transactions to determine if it fraudulent or not. \n",
    "\n",
    "\n",
    "#### Analysis Steps:\n",
    "\n",
    "**Step ii.** <br>\n",
    "Load Data and map countries to ip-addresses.\n",
    "\n",
    "**Step 1:**\n",
    "The first step is to explore the data provided: <br>\n",
    "Fraud_Data and ip_address. Fraud_Data contains information individual transactions for the time period of 1 month (May 2018 that are classified as fraudulent (with a “1”) or not fraudulent (with a “0”). The data spans sign up time May 1, 2015 - August 18, 2015 (3.5 months) and purchase time May 1, 2015 - December 16, 2015 (7.5 months). \n",
    "Ip Address data provides ranges of ip-addresses that correspond to each country.<br>\n",
    "\n",
    "**Some Observations:**\n",
    "1. Nearly all of the fraudulent transactions had a signup date of May 1, 2015 and transaction date of May 1, 2015.\n",
    "2. We have unbalanced classes - only 10%  of the transactions are fraudulent; if we do not correct for this, the model will tend to select the majority class (“0” for not fraudulent)\n",
    "3. Age has a similar distribution across fraudulent/non-fraudulent transactions.\n",
    "4. While the United States has the highest count of total fraudulent transactions, it also has the highest sample size of transactions (resulting in a fraudulent transaction raito of 9.5%);\n",
    "5. Ratio of Fraud: Total Transactions:\n",
    "    - Turkmenistan has the highest fraudulent/total transation ratio, but we only have one transaction to observe; <br>\n",
    "   The next three are:\n",
    "        - Namibia\t(10/23) or 43%\n",
    "        - Sri Lanka\t(13/31) or 41%\n",
    "        - Luxembourg (28/72) or 39%\n",
    "\n",
    "\n",
    "**Step 2:** Data is transformed into numeric values and removed NaNs from countries (since some ip address did not map to a country in the ip address data set), so that it can be used in classification models.\n",
    "<br>\n",
    "Since our data has unbalanced classes, I under sample the majority class to balance the classes (so that the model is not biases towards choosing \"0\" for not fraud.\n",
    "\n",
    "\n",
    "**Step 3:**\n",
    "Classification models I explored:\n",
    "\n",
    "1. RandomForest Classifier <br>\n",
    "2. KNN\n",
    "3. AdaBoost\n",
    "4. Niave Bayes\n",
    "5. Bagged Decision Tree\n",
    "\n",
    "\n",
    "**Step 4:**\n",
    "Evaluate models using precision, recall and f1-score (which balances precision and recall); <br>\n",
    "Oberserve True Negatives, True Positives, False Negatives and False Positives in confusion matrices <br>\n",
    "\n",
    "**Step 5:** \n",
    "Outline next steps"
   ]
  },
  {
   "cell_type": "markdown",
   "metadata": {},
   "source": [
    "#### Table of Contents"
   ]
  },
  {
   "cell_type": "markdown",
   "metadata": {},
   "source": [
    "[Summary](#Summary) <br>\n",
    "[Step i: Import sklearn and plotting libraries](#Step-i:-Import-sklearn-and-plotting-libraries) <br>\n",
    "[Step ii: Load the Data](#Step-ii:-Load-the-Data) <br>\n",
    "[Step 1: Data Exploration](#Step-1:-Data-Exploration) <br>\n",
    "[Step 2: Data Transforamtion](#Step-2:-Data-Transformation) <br>\n",
    "[Step 3: Modeling](#Step-3:-Modeling) <br>\n",
    "[Step 4: Model Evaluation](#Step-4:-Model-Evaluation) <br>\n",
    "[Step 5: Next Steps](#Step-5:-Next-Steps) <br>"
   ]
  },
  {
   "cell_type": "markdown",
   "metadata": {},
   "source": [
    "### Step i: Import necessary pandas, sklearn & plotting libraries"
   ]
  },
  {
   "cell_type": "code",
   "execution_count": 84,
   "metadata": {},
   "outputs": [],
   "source": [
    "import pandas as pd\n",
    "import numpy as np\n",
    "import matplotlib.pyplot as plt\n",
    "import seaborn as sns\n",
    "\n",
    "from sklearn.ensemble import RandomForestClassifier, AdaBoostClassifier\n",
    "from sklearn.neighbors import KNeighborsClassifier\n",
    "from sklearn.tree import DecisionTreeClassifier\n",
    "from sklearn.model_selection import GridSearchCV,RandomizedSearchCV\n",
    "from sklearn.naive_bayes import MultinomialNB, BernoulliNB\n",
    "from sklearn import svm\n",
    "from sklearn.model_selection import cross_val_score, train_test_split\n",
    "from sklearn.metrics import precision_score, recall_score, f1_score,make_scorer,confusion_matrix\n",
    " \n",
    "import timeit\n",
    "\n",
    "%matplotlib inline\n",
    "sns.set_style(\"dark\")"
   ]
  },
  {
   "cell_type": "markdown",
   "metadata": {},
   "source": [
    "### Step ii: Load the Data"
   ]
  },
  {
   "cell_type": "code",
   "execution_count": 4,
   "metadata": {},
   "outputs": [],
   "source": [
    "ip = pd.read_csv('../data/IpAddress_to_Country.csv')\n",
    "fraud = pd.read_csv('../data/Fraud_Data.csv')"
   ]
  },
  {
   "cell_type": "code",
   "execution_count": 5,
   "metadata": {},
   "outputs": [
    {
     "data": {
      "text/html": [
       "<div>\n",
       "<style scoped>\n",
       "    .dataframe tbody tr th:only-of-type {\n",
       "        vertical-align: middle;\n",
       "    }\n",
       "\n",
       "    .dataframe tbody tr th {\n",
       "        vertical-align: top;\n",
       "    }\n",
       "\n",
       "    .dataframe thead th {\n",
       "        text-align: right;\n",
       "    }\n",
       "</style>\n",
       "<table border=\"1\" class=\"dataframe\">\n",
       "  <thead>\n",
       "    <tr style=\"text-align: right;\">\n",
       "      <th></th>\n",
       "      <th>lower_bound_ip_address</th>\n",
       "      <th>upper_bound_ip_address</th>\n",
       "      <th>country</th>\n",
       "    </tr>\n",
       "  </thead>\n",
       "  <tbody>\n",
       "    <tr>\n",
       "      <th>0</th>\n",
       "      <td>16777216.0</td>\n",
       "      <td>16777471</td>\n",
       "      <td>Australia</td>\n",
       "    </tr>\n",
       "    <tr>\n",
       "      <th>1</th>\n",
       "      <td>16777472.0</td>\n",
       "      <td>16777727</td>\n",
       "      <td>China</td>\n",
       "    </tr>\n",
       "    <tr>\n",
       "      <th>2</th>\n",
       "      <td>16777728.0</td>\n",
       "      <td>16778239</td>\n",
       "      <td>China</td>\n",
       "    </tr>\n",
       "    <tr>\n",
       "      <th>3</th>\n",
       "      <td>16778240.0</td>\n",
       "      <td>16779263</td>\n",
       "      <td>Australia</td>\n",
       "    </tr>\n",
       "    <tr>\n",
       "      <th>4</th>\n",
       "      <td>16779264.0</td>\n",
       "      <td>16781311</td>\n",
       "      <td>China</td>\n",
       "    </tr>\n",
       "  </tbody>\n",
       "</table>\n",
       "</div>"
      ],
      "text/plain": [
       "   lower_bound_ip_address  upper_bound_ip_address    country\n",
       "0              16777216.0                16777471  Australia\n",
       "1              16777472.0                16777727      China\n",
       "2              16777728.0                16778239      China\n",
       "3              16778240.0                16779263  Australia\n",
       "4              16779264.0                16781311      China"
      ]
     },
     "execution_count": 5,
     "metadata": {},
     "output_type": "execute_result"
    }
   ],
   "source": [
    "ip.head()"
   ]
  },
  {
   "cell_type": "code",
   "execution_count": 6,
   "metadata": {},
   "outputs": [
    {
     "data": {
      "text/html": [
       "<div>\n",
       "<style scoped>\n",
       "    .dataframe tbody tr th:only-of-type {\n",
       "        vertical-align: middle;\n",
       "    }\n",
       "\n",
       "    .dataframe tbody tr th {\n",
       "        vertical-align: top;\n",
       "    }\n",
       "\n",
       "    .dataframe thead th {\n",
       "        text-align: right;\n",
       "    }\n",
       "</style>\n",
       "<table border=\"1\" class=\"dataframe\">\n",
       "  <thead>\n",
       "    <tr style=\"text-align: right;\">\n",
       "      <th></th>\n",
       "      <th>user_id</th>\n",
       "      <th>signup_time</th>\n",
       "      <th>purchase_time</th>\n",
       "      <th>purchase_value</th>\n",
       "      <th>device_id</th>\n",
       "      <th>source</th>\n",
       "      <th>browser</th>\n",
       "      <th>sex</th>\n",
       "      <th>age</th>\n",
       "      <th>ip_address</th>\n",
       "      <th>class</th>\n",
       "    </tr>\n",
       "  </thead>\n",
       "  <tbody>\n",
       "    <tr>\n",
       "      <th>0</th>\n",
       "      <td>22058</td>\n",
       "      <td>2015-02-24 22:55:49</td>\n",
       "      <td>2015-04-18 02:47:11</td>\n",
       "      <td>34</td>\n",
       "      <td>QVPSPJUOCKZAR</td>\n",
       "      <td>SEO</td>\n",
       "      <td>Chrome</td>\n",
       "      <td>M</td>\n",
       "      <td>39</td>\n",
       "      <td>7.327584e+08</td>\n",
       "      <td>0</td>\n",
       "    </tr>\n",
       "    <tr>\n",
       "      <th>1</th>\n",
       "      <td>333320</td>\n",
       "      <td>2015-06-07 20:39:50</td>\n",
       "      <td>2015-06-08 01:38:54</td>\n",
       "      <td>16</td>\n",
       "      <td>EOGFQPIZPYXFZ</td>\n",
       "      <td>Ads</td>\n",
       "      <td>Chrome</td>\n",
       "      <td>F</td>\n",
       "      <td>53</td>\n",
       "      <td>3.503114e+08</td>\n",
       "      <td>0</td>\n",
       "    </tr>\n",
       "    <tr>\n",
       "      <th>2</th>\n",
       "      <td>1359</td>\n",
       "      <td>2015-01-01 18:52:44</td>\n",
       "      <td>2015-01-01 18:52:45</td>\n",
       "      <td>15</td>\n",
       "      <td>YSSKYOSJHPPLJ</td>\n",
       "      <td>SEO</td>\n",
       "      <td>Opera</td>\n",
       "      <td>M</td>\n",
       "      <td>53</td>\n",
       "      <td>2.621474e+09</td>\n",
       "      <td>1</td>\n",
       "    </tr>\n",
       "    <tr>\n",
       "      <th>3</th>\n",
       "      <td>150084</td>\n",
       "      <td>2015-04-28 21:13:25</td>\n",
       "      <td>2015-05-04 13:54:50</td>\n",
       "      <td>44</td>\n",
       "      <td>ATGTXKYKUDUQN</td>\n",
       "      <td>SEO</td>\n",
       "      <td>Safari</td>\n",
       "      <td>M</td>\n",
       "      <td>41</td>\n",
       "      <td>3.840542e+09</td>\n",
       "      <td>0</td>\n",
       "    </tr>\n",
       "    <tr>\n",
       "      <th>4</th>\n",
       "      <td>221365</td>\n",
       "      <td>2015-07-21 07:09:52</td>\n",
       "      <td>2015-09-09 18:40:53</td>\n",
       "      <td>39</td>\n",
       "      <td>NAUITBZFJKHWW</td>\n",
       "      <td>Ads</td>\n",
       "      <td>Safari</td>\n",
       "      <td>M</td>\n",
       "      <td>45</td>\n",
       "      <td>4.155831e+08</td>\n",
       "      <td>0</td>\n",
       "    </tr>\n",
       "  </tbody>\n",
       "</table>\n",
       "</div>"
      ],
      "text/plain": [
       "   user_id          signup_time        purchase_time  purchase_value  \\\n",
       "0    22058  2015-02-24 22:55:49  2015-04-18 02:47:11              34   \n",
       "1   333320  2015-06-07 20:39:50  2015-06-08 01:38:54              16   \n",
       "2     1359  2015-01-01 18:52:44  2015-01-01 18:52:45              15   \n",
       "3   150084  2015-04-28 21:13:25  2015-05-04 13:54:50              44   \n",
       "4   221365  2015-07-21 07:09:52  2015-09-09 18:40:53              39   \n",
       "\n",
       "       device_id source browser sex  age    ip_address  class  \n",
       "0  QVPSPJUOCKZAR    SEO  Chrome   M   39  7.327584e+08      0  \n",
       "1  EOGFQPIZPYXFZ    Ads  Chrome   F   53  3.503114e+08      0  \n",
       "2  YSSKYOSJHPPLJ    SEO   Opera   M   53  2.621474e+09      1  \n",
       "3  ATGTXKYKUDUQN    SEO  Safari   M   41  3.840542e+09      0  \n",
       "4  NAUITBZFJKHWW    Ads  Safari   M   45  4.155831e+08      0  "
      ]
     },
     "execution_count": 6,
     "metadata": {},
     "output_type": "execute_result"
    }
   ],
   "source": [
    "fraud.head()"
   ]
  },
  {
   "cell_type": "markdown",
   "metadata": {},
   "source": [
    "**Map Countries to ip-addresses**"
   ]
  },
  {
   "cell_type": "markdown",
   "metadata": {},
   "source": [
    "The following function uses .loc to identify the row in the ip address data containing the values that bound the ip address from the transaction data, and selects the corresponding country."
   ]
  },
  {
   "cell_type": "code",
   "execution_count": 7,
   "metadata": {},
   "outputs": [],
   "source": [
    "#Define a function\n",
    "def country_map(ip_ad):\n",
    "    countries=ip.loc[(ip['upper_bound_ip_address'] >= ip_ad) & (ip['lower_bound_ip_address'] <= ip_ad),'country'].values\n",
    "    #Account for nulls\n",
    "    if len(countries)==0:\n",
    "        return np.nan\n",
    "    return countries[0]\n"
   ]
  },
  {
   "cell_type": "code",
   "execution_count": 9,
   "metadata": {},
   "outputs": [],
   "source": [
    "#Warning: this takes  time to run\n",
    "fraud['country'] = fraud['ip_address'].apply(lambda row: country_map(row))"
   ]
  },
  {
   "cell_type": "code",
   "execution_count": null,
   "metadata": {},
   "outputs": [],
   "source": [
    "fraud.head()"
   ]
  },
  {
   "cell_type": "code",
   "execution_count": 10,
   "metadata": {},
   "outputs": [],
   "source": [
    "#Save resulting file before ordinalizing\n",
    "fraud_with_country = fraud.to_csv('../data/fraud_w_country.csv')"
   ]
  },
  {
   "cell_type": "markdown",
   "metadata": {},
   "source": [
    "[Back to Table of Contents](#Table-of-Contents)"
   ]
  },
  {
   "cell_type": "markdown",
   "metadata": {},
   "source": [
    "### Step 1: Data Exploration"
   ]
  },
  {
   "cell_type": "code",
   "execution_count": 10,
   "metadata": {
    "scrolled": true
   },
   "outputs": [
    {
     "data": {
      "text/plain": [
       "Index(['user_id', 'signup_time', 'purchase_time', 'purchase_value',\n",
       "       'device_id', 'source', 'browser', 'sex', 'age', 'ip_address', 'class'],\n",
       "      dtype='object')"
      ]
     },
     "execution_count": 10,
     "metadata": {},
     "output_type": "execute_result"
    }
   ],
   "source": [
    "fraud.columns"
   ]
  },
  {
   "cell_type": "code",
   "execution_count": 11,
   "metadata": {},
   "outputs": [
    {
     "data": {
      "text/plain": [
       "user_id           0\n",
       "signup_time       0\n",
       "purchase_time     0\n",
       "purchase_value    0\n",
       "device_id         0\n",
       "source            0\n",
       "browser           0\n",
       "sex               0\n",
       "age               0\n",
       "ip_address        0\n",
       "class             0\n",
       "dtype: int64"
      ]
     },
     "execution_count": 11,
     "metadata": {},
     "output_type": "execute_result"
    }
   ],
   "source": [
    "fraud.isna().sum()"
   ]
  },
  {
   "cell_type": "code",
   "execution_count": 12,
   "metadata": {},
   "outputs": [
    {
     "data": {
      "text/plain": [
       "user_id             int64\n",
       "signup_time        object\n",
       "purchase_time      object\n",
       "purchase_value      int64\n",
       "device_id          object\n",
       "source             object\n",
       "browser            object\n",
       "sex                object\n",
       "age                 int64\n",
       "ip_address        float64\n",
       "class               int64\n",
       "dtype: object"
      ]
     },
     "execution_count": 12,
     "metadata": {},
     "output_type": "execute_result"
    }
   ],
   "source": [
    "fraud.dtypes"
   ]
  },
  {
   "cell_type": "code",
   "execution_count": 13,
   "metadata": {},
   "outputs": [
    {
     "data": {
      "text/html": [
       "<div>\n",
       "<style scoped>\n",
       "    .dataframe tbody tr th:only-of-type {\n",
       "        vertical-align: middle;\n",
       "    }\n",
       "\n",
       "    .dataframe tbody tr th {\n",
       "        vertical-align: top;\n",
       "    }\n",
       "\n",
       "    .dataframe thead th {\n",
       "        text-align: right;\n",
       "    }\n",
       "</style>\n",
       "<table border=\"1\" class=\"dataframe\">\n",
       "  <thead>\n",
       "    <tr style=\"text-align: right;\">\n",
       "      <th></th>\n",
       "      <th>user_id</th>\n",
       "      <th>purchase_value</th>\n",
       "      <th>age</th>\n",
       "      <th>ip_address</th>\n",
       "      <th>class</th>\n",
       "    </tr>\n",
       "  </thead>\n",
       "  <tbody>\n",
       "    <tr>\n",
       "      <th>count</th>\n",
       "      <td>151112.000000</td>\n",
       "      <td>151112.000000</td>\n",
       "      <td>151112.000000</td>\n",
       "      <td>1.511120e+05</td>\n",
       "      <td>151112.000000</td>\n",
       "    </tr>\n",
       "    <tr>\n",
       "      <th>mean</th>\n",
       "      <td>200171.040970</td>\n",
       "      <td>36.935372</td>\n",
       "      <td>33.140704</td>\n",
       "      <td>2.152145e+09</td>\n",
       "      <td>0.093646</td>\n",
       "    </tr>\n",
       "    <tr>\n",
       "      <th>std</th>\n",
       "      <td>115369.285024</td>\n",
       "      <td>18.322762</td>\n",
       "      <td>8.617733</td>\n",
       "      <td>1.248497e+09</td>\n",
       "      <td>0.291336</td>\n",
       "    </tr>\n",
       "    <tr>\n",
       "      <th>min</th>\n",
       "      <td>2.000000</td>\n",
       "      <td>9.000000</td>\n",
       "      <td>18.000000</td>\n",
       "      <td>5.209350e+04</td>\n",
       "      <td>0.000000</td>\n",
       "    </tr>\n",
       "    <tr>\n",
       "      <th>25%</th>\n",
       "      <td>100642.500000</td>\n",
       "      <td>22.000000</td>\n",
       "      <td>27.000000</td>\n",
       "      <td>1.085934e+09</td>\n",
       "      <td>0.000000</td>\n",
       "    </tr>\n",
       "    <tr>\n",
       "      <th>50%</th>\n",
       "      <td>199958.000000</td>\n",
       "      <td>35.000000</td>\n",
       "      <td>33.000000</td>\n",
       "      <td>2.154770e+09</td>\n",
       "      <td>0.000000</td>\n",
       "    </tr>\n",
       "    <tr>\n",
       "      <th>75%</th>\n",
       "      <td>300054.000000</td>\n",
       "      <td>49.000000</td>\n",
       "      <td>39.000000</td>\n",
       "      <td>3.243258e+09</td>\n",
       "      <td>0.000000</td>\n",
       "    </tr>\n",
       "    <tr>\n",
       "      <th>max</th>\n",
       "      <td>400000.000000</td>\n",
       "      <td>154.000000</td>\n",
       "      <td>76.000000</td>\n",
       "      <td>4.294850e+09</td>\n",
       "      <td>1.000000</td>\n",
       "    </tr>\n",
       "  </tbody>\n",
       "</table>\n",
       "</div>"
      ],
      "text/plain": [
       "             user_id  purchase_value            age    ip_address  \\\n",
       "count  151112.000000   151112.000000  151112.000000  1.511120e+05   \n",
       "mean   200171.040970       36.935372      33.140704  2.152145e+09   \n",
       "std    115369.285024       18.322762       8.617733  1.248497e+09   \n",
       "min         2.000000        9.000000      18.000000  5.209350e+04   \n",
       "25%    100642.500000       22.000000      27.000000  1.085934e+09   \n",
       "50%    199958.000000       35.000000      33.000000  2.154770e+09   \n",
       "75%    300054.000000       49.000000      39.000000  3.243258e+09   \n",
       "max    400000.000000      154.000000      76.000000  4.294850e+09   \n",
       "\n",
       "               class  \n",
       "count  151112.000000  \n",
       "mean        0.093646  \n",
       "std         0.291336  \n",
       "min         0.000000  \n",
       "25%         0.000000  \n",
       "50%         0.000000  \n",
       "75%         0.000000  \n",
       "max         1.000000  "
      ]
     },
     "execution_count": 13,
     "metadata": {},
     "output_type": "execute_result"
    }
   ],
   "source": [
    "fraud.describe()"
   ]
  },
  {
   "cell_type": "code",
   "execution_count": 14,
   "metadata": {},
   "outputs": [
    {
     "data": {
      "text/plain": [
       "151112"
      ]
     },
     "execution_count": 14,
     "metadata": {},
     "output_type": "execute_result"
    }
   ],
   "source": [
    "len(fraud.index.unique())"
   ]
  },
  {
   "cell_type": "code",
   "execution_count": 15,
   "metadata": {},
   "outputs": [],
   "source": [
    "device_pv = pd.DataFrame(fraud[['device_id','purchase_value']].groupby('device_id').sum()\n",
    "                         .sort_values(by='purchase_value',ascending=False))\n",
    "device_pv.reset_index(inplace=True)"
   ]
  },
  {
   "cell_type": "code",
   "execution_count": 16,
   "metadata": {},
   "outputs": [
    {
     "data": {
      "text/html": [
       "<div>\n",
       "<style scoped>\n",
       "    .dataframe tbody tr th:only-of-type {\n",
       "        vertical-align: middle;\n",
       "    }\n",
       "\n",
       "    .dataframe tbody tr th {\n",
       "        vertical-align: top;\n",
       "    }\n",
       "\n",
       "    .dataframe thead th {\n",
       "        text-align: right;\n",
       "    }\n",
       "</style>\n",
       "<table border=\"1\" class=\"dataframe\">\n",
       "  <thead>\n",
       "    <tr style=\"text-align: right;\">\n",
       "      <th></th>\n",
       "      <th>device_id</th>\n",
       "      <th>purchase_value</th>\n",
       "    </tr>\n",
       "  </thead>\n",
       "  <tbody>\n",
       "    <tr>\n",
       "      <th>0</th>\n",
       "      <td>KPAAACGRQWYIK</td>\n",
       "      <td>1458</td>\n",
       "    </tr>\n",
       "    <tr>\n",
       "      <th>1</th>\n",
       "      <td>UOMHJMHDVTLAS</td>\n",
       "      <td>1376</td>\n",
       "    </tr>\n",
       "    <tr>\n",
       "      <th>2</th>\n",
       "      <td>EQYVNEGOFLAWK</td>\n",
       "      <td>1369</td>\n",
       "    </tr>\n",
       "    <tr>\n",
       "      <th>3</th>\n",
       "      <td>KHHAMKJCMODJA</td>\n",
       "      <td>1320</td>\n",
       "    </tr>\n",
       "    <tr>\n",
       "      <th>4</th>\n",
       "      <td>TZSHXHDMKLRYJ</td>\n",
       "      <td>1288</td>\n",
       "    </tr>\n",
       "  </tbody>\n",
       "</table>\n",
       "</div>"
      ],
      "text/plain": [
       "       device_id  purchase_value\n",
       "0  KPAAACGRQWYIK            1458\n",
       "1  UOMHJMHDVTLAS            1376\n",
       "2  EQYVNEGOFLAWK            1369\n",
       "3  KHHAMKJCMODJA            1320\n",
       "4  TZSHXHDMKLRYJ            1288"
      ]
     },
     "execution_count": 16,
     "metadata": {},
     "output_type": "execute_result"
    }
   ],
   "source": [
    "device_pv.head()"
   ]
  },
  {
   "cell_type": "code",
   "execution_count": 17,
   "metadata": {},
   "outputs": [
    {
     "name": "stderr",
     "output_type": "stream",
     "text": [
      "/Users/anaconda3/lib/python3.7/site-packages/scipy/stats/stats.py:1713: FutureWarning: Using a non-tuple sequence for multidimensional indexing is deprecated; use `arr[tuple(seq)]` instead of `arr[seq]`. In the future this will be interpreted as an array index, `arr[np.array(seq)]`, which will result either in an error or a different result.\n",
      "  return np.add.reduce(sorted[indexer] * weights, axis=axis) / sumval\n"
     ]
    },
    {
     "data": {
      "image/png": "[encoded data removed]",
      "text/plain": [
       "<Figure size 792x288 with 2 Axes>"
      ]
     },
     "metadata": {
      "needs_background": "light"
     },
     "output_type": "display_data"
    }
   ],
   "source": [
    "f, (ax1, ax2) = plt.subplots(1,2,figsize=(11,4))\n",
    "sns.distplot(device_pv['purchase_value'],ax=ax1)\n",
    "ax2.hist(device_pv['purchase_value'],bins=30)\n",
    "ax1.set_title(\"Distribution of Total Purchase Amount by Devic ID\",fontsize=10)\n",
    "ax2.set_title(\"Frequencies of Total Purchase Amount by Devic ID\",fontsize=10);"
   ]
  },
  {
   "cell_type": "markdown",
   "metadata": {},
   "source": [
    "Define a function to visually inspect unique values in features:"
   ]
  },
  {
   "cell_type": "code",
   "execution_count": 18,
   "metadata": {},
   "outputs": [],
   "source": [
    "def create_eda_bar(col):\n",
    "    plt.figure(figsize=(6,4))\n",
    "    ax = sns.barplot(fraud[col].unique(),fraud[col].value_counts())\n",
    "    for p in ax.patches:\n",
    "        ax.annotate('{:.0f}'.format(p.get_height()), (p.get_x()+0.3, p.get_height()+1000),fontsize=12)\n",
    "    ax.set_title(\"Unqiue Values and Counts of \" + col[0].upper() + col[1:],fontsize=14)"
   ]
  },
  {
   "cell_type": "code",
   "execution_count": 19,
   "metadata": {},
   "outputs": [
    {
     "data": {
      "image/png": "[encoded data removed]",
      "text/plain": [
       "<Figure size 432x288 with 1 Axes>"
      ]
     },
     "metadata": {
      "needs_background": "light"
     },
     "output_type": "display_data"
    }
   ],
   "source": [
    "create_eda_bar('source')"
   ]
  },
  {
   "cell_type": "code",
   "execution_count": 20,
   "metadata": {},
   "outputs": [
    {
     "data": {
      "image/png": "[encoded data removed]",
      "text/plain": [
       "<Figure size 432x288 with 1 Axes>"
      ]
     },
     "metadata": {
      "needs_background": "light"
     },
     "output_type": "display_data"
    }
   ],
   "source": [
    "create_eda_bar('browser')"
   ]
  },
  {
   "cell_type": "code",
   "execution_count": 21,
   "metadata": {},
   "outputs": [
    {
     "data": {
      "image/png": "[encoded data removed]",
      "text/plain": [
       "<Figure size 432x288 with 1 Axes>"
      ]
     },
     "metadata": {
      "needs_background": "light"
     },
     "output_type": "display_data"
    }
   ],
   "source": [
    "create_eda_bar('sex')"
   ]
  },
  {
   "cell_type": "code",
   "execution_count": 22,
   "metadata": {},
   "outputs": [
    {
     "data": {
      "image/png": "[encoded data removed]",
      "text/plain": [
       "<Figure size 432x288 with 1 Axes>"
      ]
     },
     "metadata": {
      "needs_background": "light"
     },
     "output_type": "display_data"
    }
   ],
   "source": [
    "create_eda_bar('class')"
   ]
  },
  {
   "cell_type": "code",
   "execution_count": 23,
   "metadata": {},
   "outputs": [
    {
     "data": {
      "text/plain": [
       "0    0.906354\n",
       "1    0.093646\n",
       "Name: class, dtype: float64"
      ]
     },
     "execution_count": 23,
     "metadata": {},
     "output_type": "execute_result"
    }
   ],
   "source": [
    "fraud['class'].value_counts(normalize=True)\n"
   ]
  },
  {
   "cell_type": "code",
   "execution_count": 24,
   "metadata": {},
   "outputs": [
    {
     "data": {
      "image/png": "[encoded data removed]",
      "text/plain": [
       "<Figure size 1080x432 with 1 Axes>"
      ]
     },
     "metadata": {
      "needs_background": "light"
     },
     "output_type": "display_data"
    }
   ],
   "source": [
    "plt.figure(figsize=(15,6))\n",
    "ax = sns.barplot(fraud['age'].unique(),fraud['age'].value_counts())\n",
    "for p in ax.patches:\n",
    "    ax.annotate('{:.0f}'.format(p.get_height()), (p.get_x()+0.3, p.get_height()+100),fontsize=12)\n",
    "ax.set_title(\"Unqiue Values and Counts of Age\",fontsize=16);"
   ]
  },
  {
   "cell_type": "code",
   "execution_count": 25,
   "metadata": {},
   "outputs": [
    {
     "data": {
      "image/png": "[encoded data removed]",
      "text/plain": [
       "<Figure size 432x288 with 1 Axes>"
      ]
     },
     "metadata": {
      "needs_background": "light"
     },
     "output_type": "display_data"
    }
   ],
   "source": [
    "plt.hist(fraud['age'],bins=30);"
   ]
  },
  {
   "cell_type": "code",
   "execution_count": 26,
   "metadata": {},
   "outputs": [
    {
     "data": {
      "text/html": [
       "<div>\n",
       "<style scoped>\n",
       "    .dataframe tbody tr th:only-of-type {\n",
       "        vertical-align: middle;\n",
       "    }\n",
       "\n",
       "    .dataframe tbody tr th {\n",
       "        vertical-align: top;\n",
       "    }\n",
       "\n",
       "    .dataframe thead th {\n",
       "        text-align: right;\n",
       "    }\n",
       "</style>\n",
       "<table border=\"1\" class=\"dataframe\">\n",
       "  <thead>\n",
       "    <tr style=\"text-align: right;\">\n",
       "      <th></th>\n",
       "      <th>purchase_value</th>\n",
       "    </tr>\n",
       "    <tr>\n",
       "      <th>class</th>\n",
       "      <th></th>\n",
       "    </tr>\n",
       "  </thead>\n",
       "  <tbody>\n",
       "    <tr>\n",
       "      <th>0</th>\n",
       "      <td>36.929418</td>\n",
       "    </tr>\n",
       "    <tr>\n",
       "      <th>1</th>\n",
       "      <td>36.993004</td>\n",
       "    </tr>\n",
       "  </tbody>\n",
       "</table>\n",
       "</div>"
      ],
      "text/plain": [
       "       purchase_value\n",
       "class                \n",
       "0           36.929418\n",
       "1           36.993004"
      ]
     },
     "execution_count": 26,
     "metadata": {},
     "output_type": "execute_result"
    }
   ],
   "source": [
    "#Average purchase_value for each\n",
    "fraud[['purchase_value','class']].groupby('class').mean()"
   ]
  },
  {
   "cell_type": "markdown",
   "metadata": {},
   "source": [
    "Plot the Relationship between Signup time, Purchase Time and whether the transaction was fraudulent or not"
   ]
  },
  {
   "cell_type": "code",
   "execution_count": 27,
   "metadata": {},
   "outputs": [],
   "source": [
    "#Convert signup_time and purchase_time to datetime,\n",
    "fraud['signup_time'] = pd.to_datetime(fraud['signup_time'])\n",
    "fraud['purchase_time'] = pd.to_datetime(fraud['purchase_time'])"
   ]
  },
  {
   "cell_type": "code",
   "execution_count": 28,
   "metadata": {},
   "outputs": [
    {
     "data": {
      "text/plain": [
       "(Timestamp('2015-01-01 00:00:42'), Timestamp('2015-08-18 04:40:29'))"
      ]
     },
     "execution_count": 28,
     "metadata": {},
     "output_type": "execute_result"
    }
   ],
   "source": [
    "fraud['signup_time'].min(), fraud['signup_time'].max()"
   ]
  },
  {
   "cell_type": "code",
   "execution_count": 29,
   "metadata": {},
   "outputs": [
    {
     "data": {
      "text/plain": [
       "(Timestamp('2015-01-01 00:00:44'), Timestamp('2015-12-16 02:56:05'))"
      ]
     },
     "execution_count": 29,
     "metadata": {},
     "output_type": "execute_result"
    }
   ],
   "source": [
    "fraud['purchase_time'].min(), fraud['purchase_time'].max()"
   ]
  },
  {
   "cell_type": "code",
   "execution_count": 30,
   "metadata": {},
   "outputs": [
    {
     "name": "stderr",
     "output_type": "stream",
     "text": [
      "/Users/anaconda3/lib/python3.7/site-packages/pandas/plotting/_converter.py:129: FutureWarning: Using an implicitly registered datetime converter for a matplotlib plotting method. The converter was registered by pandas on import. Future versions of pandas will require you to explicitly register matplotlib converters.\n",
      "\n",
      "To register the converters:\n",
      "\t>>> from pandas.plotting import register_matplotlib_converters\n",
      "\t>>> register_matplotlib_converters()\n",
      "  warnings.warn(msg, FutureWarning)\n"
     ]
    },
    {
     "data": {
      "image/png": "[encoded data removed]",
      "text/plain": [
       "<Figure size 720x288 with 1 Axes>"
      ]
     },
     "metadata": {
      "needs_background": "light"
     },
     "output_type": "display_data"
    }
   ],
   "source": [
    "plt.figure(figsize=(10,4))\n",
    "plt.hist(fraud['signup_time'][fraud['class']==1],bins=30,alpha=0.7, label=\"Signup Time\")\n",
    "plt.hist(fraud['purchase_time'][fraud['class']==1],bins=30,alpha=0.5,label=\"Purchase Time\")\n",
    "plt.title(\"Frequencys of Signup & Purchase Time for Fraudulent Transactions\",fontsize=16)\n",
    "plt.legend();"
   ]
  },
  {
   "cell_type": "code",
   "execution_count": 31,
   "metadata": {},
   "outputs": [
    {
     "data": {
      "image/png": "[encoded data removed]",
      "text/plain": [
       "<Figure size 720x288 with 1 Axes>"
      ]
     },
     "metadata": {
      "needs_background": "light"
     },
     "output_type": "display_data"
    }
   ],
   "source": [
    "plt.figure(figsize=(10,4))\n",
    "plt.hist(fraud['signup_time'][fraud['class']==0],bins=30,alpha=0.7, label=\"Signup Time\")\n",
    "plt.hist(fraud['purchase_time'][fraud['class']==0],bins=30,alpha=0.5,label=\"Purchase Time\")\n",
    "plt.title(\"Frequencys of Signup & Purchase Time for Legitimate Transactions\",fontsize=16)\n",
    "plt.legend();"
   ]
  },
  {
   "cell_type": "markdown",
   "metadata": {},
   "source": [
    "Define a function to plot categories of fraudulent vs legitimate transactions"
   ]
  },
  {
   "cell_type": "code",
   "execution_count": 32,
   "metadata": {},
   "outputs": [],
   "source": [
    "def fraud_no_fraud_chart(col):\n",
    "    df1 = pd.DataFrame(fraud[fraud['class']==1].groupby(col).count())\n",
    "    df0 = pd.DataFrame(fraud[fraud['class']==0].groupby(col).count())\n",
    "    \n",
    "    fig, ax = plt.subplots(1,2,figsize=(14,5),sharey=True)\n",
    "    \n",
    "    sns.barplot(df1.index.unique(),df1['class'],ax=ax[0])\n",
    "    sns.barplot(df0.index.unique(),df0['class'],ax=ax[1])\n",
    "    ax[0].set_title(col[0].upper() + col[1:] + \" for Fraudulent Transactions\",fontsize=14)\n",
    "    ax[1].set_title(col[0].upper() + col[1:] + \" for Legitimate Transactions\",fontsize=14);"
   ]
  },
  {
   "cell_type": "code",
   "execution_count": 33,
   "metadata": {},
   "outputs": [
    {
     "data": {
      "image/png": "[encoded data removed]",
      "text/plain": [
       "<Figure size 1008x360 with 2 Axes>"
      ]
     },
     "metadata": {
      "needs_background": "light"
     },
     "output_type": "display_data"
    }
   ],
   "source": [
    "fraud_no_fraud_chart('browser')"
   ]
  },
  {
   "cell_type": "code",
   "execution_count": 34,
   "metadata": {},
   "outputs": [
    {
     "data": {
      "image/png": "[encoded data removed]",
      "text/plain": [
       "<Figure size 1008x360 with 2 Axes>"
      ]
     },
     "metadata": {
      "needs_background": "light"
     },
     "output_type": "display_data"
    }
   ],
   "source": [
    "fraud_no_fraud_chart('source')"
   ]
  },
  {
   "cell_type": "code",
   "execution_count": 35,
   "metadata": {},
   "outputs": [
    {
     "data": {
      "image/png": "[encoded data removed]",
      "text/plain": [
       "<Figure size 1008x360 with 2 Axes>"
      ]
     },
     "metadata": {
      "needs_background": "light"
     },
     "output_type": "display_data"
    }
   ],
   "source": [
    "fraud_no_fraud_chart('sex')"
   ]
  },
  {
   "cell_type": "code",
   "execution_count": 36,
   "metadata": {
    "scrolled": true
   },
   "outputs": [
    {
     "data": {
      "image/png": "[encoded data removed]",
      "text/plain": [
       "<Figure size 1008x360 with 2 Axes>"
      ]
     },
     "metadata": {
      "needs_background": "light"
     },
     "output_type": "display_data"
    }
   ],
   "source": [
    "fraud_no_fraud_chart('age')"
   ]
  },
  {
   "cell_type": "code",
   "execution_count": 37,
   "metadata": {
    "scrolled": true
   },
   "outputs": [
    {
     "data": {
      "image/png": "[encoded data removed]",
      "text/plain": [
       "<Figure size 1008x360 with 2 Axes>"
      ]
     },
     "metadata": {
      "needs_background": "light"
     },
     "output_type": "display_data"
    }
   ],
   "source": [
    "fig, ax = plt.subplots(1,2, figsize = (14,5),sharey=True)\n",
    "ax[0].hist(fraud['signup_time'][fraud['class']==1],bins=15)\n",
    "ax[0].set_title(\"Frequency of Signup Times for Fraudulent purchases\",fontsize=14)\n",
    "ax[1].hist(fraud['signup_time'][fraud['class']==0],bins=15)\n",
    "ax[1].set_title(\"Frequency of Signup Times for Legimate purchases\",fontsize=14);\n"
   ]
  },
  {
   "cell_type": "code",
   "execution_count": 38,
   "metadata": {},
   "outputs": [
    {
     "data": {
      "image/png": "[encoded data removed]",
      "text/plain": [
       "<Figure size 1008x360 with 2 Axes>"
      ]
     },
     "metadata": {
      "needs_background": "light"
     },
     "output_type": "display_data"
    }
   ],
   "source": [
    "fig, ax = plt.subplots(1,2, figsize = (14,5),sharey=True)\n",
    "ax[0].hist(fraud['purchase_time'][fraud['class']==1],bins=20)\n",
    "ax[0].set_title(\"Frequency of Purchase times for fraudulent purchases\",fontsize=14)\n",
    "ax[1].hist(fraud['purchase_time'][fraud['class']==0],bins=20)\n",
    "ax[1].set_title(\"Frequency of Purchase times for legimate purchases\",fontsize=14);"
   ]
  },
  {
   "cell_type": "markdown",
   "metadata": {},
   "source": [
    "**Countries:**"
   ]
  },
  {
   "cell_type": "code",
   "execution_count": 42,
   "metadata": {},
   "outputs": [
    {
     "data": {
      "text/plain": [
       "21966"
      ]
     },
     "execution_count": 42,
     "metadata": {},
     "output_type": "execute_result"
    }
   ],
   "source": [
    "#Make sure data with countries mapped on is loaded before running this\n",
    "fraud['country'].isna().sum()"
   ]
  },
  {
   "cell_type": "code",
   "execution_count": 43,
   "metadata": {},
   "outputs": [
    {
     "data": {
      "text/plain": [
       "182"
      ]
     },
     "execution_count": 43,
     "metadata": {},
     "output_type": "execute_result"
    }
   ],
   "source": [
    "len(fraud['country'].sort_values().unique())"
   ]
  },
  {
   "cell_type": "markdown",
   "metadata": {},
   "source": [
    "Observe Relationship between Country and Fraudulent Transactions:"
   ]
  },
  {
   "cell_type": "code",
   "execution_count": 44,
   "metadata": {},
   "outputs": [],
   "source": [
    "#Total Transactions \n",
    "totals_by_country = fraud[['country','class']].groupby('country').count().sort_values('class',ascending=False)\n",
    "#tota_by_country\n",
    "\n",
    "#Fraudulent Transactions by country\n",
    "fraud_by_country = fraud[['country','class']][fraud['class']==1].groupby('country').count().sort_values('class',ascending=False)\n",
    "fraud_by_country.reset_index(inplace=True)\n",
    "\n",
    "rate_df = pd.DataFrame(totals_by_country)\n",
    "rate_df.reset_index(inplace=True)\n",
    "rate_df2 = rate_df.merge(fraud_by_country,on='country')\n",
    "rate_df2['ratio'] = rate_df2['class_y']/rate_df2['class_x']\n",
    "rate_df2.rename(columns={'class_x':'total_transactions','class_y':'total_fraudulent'},inplace=True)\n"
   ]
  },
  {
   "cell_type": "code",
   "execution_count": 45,
   "metadata": {},
   "outputs": [
    {
     "data": {
      "text/html": [
       "<div>\n",
       "<style scoped>\n",
       "    .dataframe tbody tr th:only-of-type {\n",
       "        vertical-align: middle;\n",
       "    }\n",
       "\n",
       "    .dataframe tbody tr th {\n",
       "        vertical-align: top;\n",
       "    }\n",
       "\n",
       "    .dataframe thead th {\n",
       "        text-align: right;\n",
       "    }\n",
       "</style>\n",
       "<table border=\"1\" class=\"dataframe\">\n",
       "  <thead>\n",
       "    <tr style=\"text-align: right;\">\n",
       "      <th></th>\n",
       "      <th>country</th>\n",
       "      <th>total_transactions</th>\n",
       "      <th>total_fraudulent</th>\n",
       "      <th>ratio</th>\n",
       "    </tr>\n",
       "  </thead>\n",
       "  <tbody>\n",
       "    <tr>\n",
       "      <th>108</th>\n",
       "      <td>Turkmenistan</td>\n",
       "      <td>1</td>\n",
       "      <td>1</td>\n",
       "      <td>1.000000</td>\n",
       "    </tr>\n",
       "    <tr>\n",
       "      <th>90</th>\n",
       "      <td>Namibia</td>\n",
       "      <td>23</td>\n",
       "      <td>10</td>\n",
       "      <td>0.434783</td>\n",
       "    </tr>\n",
       "    <tr>\n",
       "      <th>83</th>\n",
       "      <td>Sri Lanka</td>\n",
       "      <td>31</td>\n",
       "      <td>13</td>\n",
       "      <td>0.419355</td>\n",
       "    </tr>\n",
       "    <tr>\n",
       "      <th>70</th>\n",
       "      <td>Luxembourg</td>\n",
       "      <td>72</td>\n",
       "      <td>28</td>\n",
       "      <td>0.388889</td>\n",
       "    </tr>\n",
       "    <tr>\n",
       "      <th>107</th>\n",
       "      <td>Virgin Islands (U.S.)</td>\n",
       "      <td>3</td>\n",
       "      <td>1</td>\n",
       "      <td>0.333333</td>\n",
       "    </tr>\n",
       "    <tr>\n",
       "      <th>58</th>\n",
       "      <td>Ecuador</td>\n",
       "      <td>106</td>\n",
       "      <td>28</td>\n",
       "      <td>0.264151</td>\n",
       "    </tr>\n",
       "    <tr>\n",
       "      <th>56</th>\n",
       "      <td>Tunisia</td>\n",
       "      <td>118</td>\n",
       "      <td>31</td>\n",
       "      <td>0.262712</td>\n",
       "    </tr>\n",
       "    <tr>\n",
       "      <th>55</th>\n",
       "      <td>Peru</td>\n",
       "      <td>119</td>\n",
       "      <td>31</td>\n",
       "      <td>0.260504</td>\n",
       "    </tr>\n",
       "    <tr>\n",
       "      <th>75</th>\n",
       "      <td>Bolivia</td>\n",
       "      <td>53</td>\n",
       "      <td>13</td>\n",
       "      <td>0.245283</td>\n",
       "    </tr>\n",
       "    <tr>\n",
       "      <th>64</th>\n",
       "      <td>Kuwait</td>\n",
       "      <td>90</td>\n",
       "      <td>21</td>\n",
       "      <td>0.233333</td>\n",
       "    </tr>\n",
       "    <tr>\n",
       "      <th>43</th>\n",
       "      <td>Ireland</td>\n",
       "      <td>240</td>\n",
       "      <td>55</td>\n",
       "      <td>0.229167</td>\n",
       "    </tr>\n",
       "    <tr>\n",
       "      <th>39</th>\n",
       "      <td>New Zealand</td>\n",
       "      <td>278</td>\n",
       "      <td>62</td>\n",
       "      <td>0.223022</td>\n",
       "    </tr>\n",
       "    <tr>\n",
       "      <th>100</th>\n",
       "      <td>Uzbekistan</td>\n",
       "      <td>10</td>\n",
       "      <td>2</td>\n",
       "      <td>0.200000</td>\n",
       "    </tr>\n",
       "    <tr>\n",
       "      <th>60</th>\n",
       "      <td>Lithuania</td>\n",
       "      <td>95</td>\n",
       "      <td>18</td>\n",
       "      <td>0.189474</td>\n",
       "    </tr>\n",
       "    <tr>\n",
       "      <th>41</th>\n",
       "      <td>Saudi Arabia</td>\n",
       "      <td>264</td>\n",
       "      <td>50</td>\n",
       "      <td>0.189394</td>\n",
       "    </tr>\n",
       "    <tr>\n",
       "      <th>92</th>\n",
       "      <td>Malta</td>\n",
       "      <td>22</td>\n",
       "      <td>4</td>\n",
       "      <td>0.181818</td>\n",
       "    </tr>\n",
       "    <tr>\n",
       "      <th>105</th>\n",
       "      <td>Afghanistan</td>\n",
       "      <td>6</td>\n",
       "      <td>1</td>\n",
       "      <td>0.166667</td>\n",
       "    </tr>\n",
       "    <tr>\n",
       "      <th>106</th>\n",
       "      <td>Cote D'ivoire</td>\n",
       "      <td>6</td>\n",
       "      <td>1</td>\n",
       "      <td>0.166667</td>\n",
       "    </tr>\n",
       "    <tr>\n",
       "      <th>28</th>\n",
       "      <td>Denmark</td>\n",
       "      <td>490</td>\n",
       "      <td>78</td>\n",
       "      <td>0.159184</td>\n",
       "    </tr>\n",
       "    <tr>\n",
       "      <th>33</th>\n",
       "      <td>Chile</td>\n",
       "      <td>417</td>\n",
       "      <td>64</td>\n",
       "      <td>0.153477</td>\n",
       "    </tr>\n",
       "    <tr>\n",
       "      <th>104</th>\n",
       "      <td>Montenegro</td>\n",
       "      <td>7</td>\n",
       "      <td>1</td>\n",
       "      <td>0.142857</td>\n",
       "    </tr>\n",
       "    <tr>\n",
       "      <th>45</th>\n",
       "      <td>Greece</td>\n",
       "      <td>231</td>\n",
       "      <td>33</td>\n",
       "      <td>0.142857</td>\n",
       "    </tr>\n",
       "    <tr>\n",
       "      <th>103</th>\n",
       "      <td>Malawi</td>\n",
       "      <td>7</td>\n",
       "      <td>1</td>\n",
       "      <td>0.142857</td>\n",
       "    </tr>\n",
       "    <tr>\n",
       "      <th>57</th>\n",
       "      <td>United Arab Emirates</td>\n",
       "      <td>114</td>\n",
       "      <td>16</td>\n",
       "      <td>0.140351</td>\n",
       "    </tr>\n",
       "    <tr>\n",
       "      <th>34</th>\n",
       "      <td>Belgium</td>\n",
       "      <td>409</td>\n",
       "      <td>56</td>\n",
       "      <td>0.136919</td>\n",
       "    </tr>\n",
       "    <tr>\n",
       "      <th>36</th>\n",
       "      <td>Egypt</td>\n",
       "      <td>359</td>\n",
       "      <td>48</td>\n",
       "      <td>0.133705</td>\n",
       "    </tr>\n",
       "    <tr>\n",
       "      <th>98</th>\n",
       "      <td>Armenia</td>\n",
       "      <td>15</td>\n",
       "      <td>2</td>\n",
       "      <td>0.133333</td>\n",
       "    </tr>\n",
       "    <tr>\n",
       "      <th>63</th>\n",
       "      <td>Costa Rica</td>\n",
       "      <td>90</td>\n",
       "      <td>12</td>\n",
       "      <td>0.133333</td>\n",
       "    </tr>\n",
       "    <tr>\n",
       "      <th>42</th>\n",
       "      <td>Venezuela</td>\n",
       "      <td>251</td>\n",
       "      <td>33</td>\n",
       "      <td>0.131474</td>\n",
       "    </tr>\n",
       "    <tr>\n",
       "      <th>23</th>\n",
       "      <td>Norway</td>\n",
       "      <td>609</td>\n",
       "      <td>79</td>\n",
       "      <td>0.129721</td>\n",
       "    </tr>\n",
       "    <tr>\n",
       "      <th>29</th>\n",
       "      <td>Hong Kong</td>\n",
       "      <td>471</td>\n",
       "      <td>61</td>\n",
       "      <td>0.129512</td>\n",
       "    </tr>\n",
       "    <tr>\n",
       "      <th>15</th>\n",
       "      <td>Mexico</td>\n",
       "      <td>1121</td>\n",
       "      <td>144</td>\n",
       "      <td>0.128457</td>\n",
       "    </tr>\n",
       "    <tr>\n",
       "      <th>59</th>\n",
       "      <td>Seychelles</td>\n",
       "      <td>95</td>\n",
       "      <td>12</td>\n",
       "      <td>0.126316</td>\n",
       "    </tr>\n",
       "    <tr>\n",
       "      <th>16</th>\n",
       "      <td>Sweden</td>\n",
       "      <td>1090</td>\n",
       "      <td>131</td>\n",
       "      <td>0.120183</td>\n",
       "    </tr>\n",
       "    <tr>\n",
       "      <th>7</th>\n",
       "      <td>Canada</td>\n",
       "      <td>2975</td>\n",
       "      <td>348</td>\n",
       "      <td>0.116975</td>\n",
       "    </tr>\n",
       "    <tr>\n",
       "      <th>32</th>\n",
       "      <td>Ukraine</td>\n",
       "      <td>429</td>\n",
       "      <td>50</td>\n",
       "      <td>0.116550</td>\n",
       "    </tr>\n",
       "    <tr>\n",
       "      <th>13</th>\n",
       "      <td>India</td>\n",
       "      <td>1310</td>\n",
       "      <td>151</td>\n",
       "      <td>0.115267</td>\n",
       "    </tr>\n",
       "    <tr>\n",
       "      <th>101</th>\n",
       "      <td>Honduras</td>\n",
       "      <td>9</td>\n",
       "      <td>1</td>\n",
       "      <td>0.111111</td>\n",
       "    </tr>\n",
       "    <tr>\n",
       "      <th>102</th>\n",
       "      <td>Senegal</td>\n",
       "      <td>9</td>\n",
       "      <td>1</td>\n",
       "      <td>0.111111</td>\n",
       "    </tr>\n",
       "    <tr>\n",
       "      <th>35</th>\n",
       "      <td>Iran (ISLAMIC Republic Of)</td>\n",
       "      <td>389</td>\n",
       "      <td>42</td>\n",
       "      <td>0.107969</td>\n",
       "    </tr>\n",
       "    <tr>\n",
       "      <th>85</th>\n",
       "      <td>Lebanon</td>\n",
       "      <td>28</td>\n",
       "      <td>3</td>\n",
       "      <td>0.107143</td>\n",
       "    </tr>\n",
       "    <tr>\n",
       "      <th>54</th>\n",
       "      <td>Algeria</td>\n",
       "      <td>122</td>\n",
       "      <td>13</td>\n",
       "      <td>0.106557</td>\n",
       "    </tr>\n",
       "    <tr>\n",
       "      <th>3</th>\n",
       "      <td>United Kingdom</td>\n",
       "      <td>4490</td>\n",
       "      <td>477</td>\n",
       "      <td>0.106236</td>\n",
       "    </tr>\n",
       "    <tr>\n",
       "      <th>95</th>\n",
       "      <td>Iceland</td>\n",
       "      <td>19</td>\n",
       "      <td>2</td>\n",
       "      <td>0.105263</td>\n",
       "    </tr>\n",
       "  </tbody>\n",
       "</table>\n",
       "</div>"
      ],
      "text/plain": [
       "                        country  total_transactions  total_fraudulent  \\\n",
       "108                Turkmenistan                   1                 1   \n",
       "90                      Namibia                  23                10   \n",
       "83                    Sri Lanka                  31                13   \n",
       "70                   Luxembourg                  72                28   \n",
       "107       Virgin Islands (U.S.)                   3                 1   \n",
       "58                      Ecuador                 106                28   \n",
       "56                      Tunisia                 118                31   \n",
       "55                         Peru                 119                31   \n",
       "75                      Bolivia                  53                13   \n",
       "64                       Kuwait                  90                21   \n",
       "43                      Ireland                 240                55   \n",
       "39                  New Zealand                 278                62   \n",
       "100                  Uzbekistan                  10                 2   \n",
       "60                    Lithuania                  95                18   \n",
       "41                 Saudi Arabia                 264                50   \n",
       "92                        Malta                  22                 4   \n",
       "105                 Afghanistan                   6                 1   \n",
       "106               Cote D'ivoire                   6                 1   \n",
       "28                      Denmark                 490                78   \n",
       "33                        Chile                 417                64   \n",
       "104                  Montenegro                   7                 1   \n",
       "45                       Greece                 231                33   \n",
       "103                      Malawi                   7                 1   \n",
       "57         United Arab Emirates                 114                16   \n",
       "34                      Belgium                 409                56   \n",
       "36                        Egypt                 359                48   \n",
       "98                      Armenia                  15                 2   \n",
       "63                   Costa Rica                  90                12   \n",
       "42                    Venezuela                 251                33   \n",
       "23                       Norway                 609                79   \n",
       "29                    Hong Kong                 471                61   \n",
       "15                       Mexico                1121               144   \n",
       "59                   Seychelles                  95                12   \n",
       "16                       Sweden                1090               131   \n",
       "7                        Canada                2975               348   \n",
       "32                      Ukraine                 429                50   \n",
       "13                        India                1310               151   \n",
       "101                    Honduras                   9                 1   \n",
       "102                     Senegal                   9                 1   \n",
       "35   Iran (ISLAMIC Republic Of)                 389                42   \n",
       "85                      Lebanon                  28                 3   \n",
       "54                      Algeria                 122                13   \n",
       "3                United Kingdom                4490               477   \n",
       "95                      Iceland                  19                 2   \n",
       "\n",
       "        ratio  \n",
       "108  1.000000  \n",
       "90   0.434783  \n",
       "83   0.419355  \n",
       "70   0.388889  \n",
       "107  0.333333  \n",
       "58   0.264151  \n",
       "56   0.262712  \n",
       "55   0.260504  \n",
       "75   0.245283  \n",
       "64   0.233333  \n",
       "43   0.229167  \n",
       "39   0.223022  \n",
       "100  0.200000  \n",
       "60   0.189474  \n",
       "41   0.189394  \n",
       "92   0.181818  \n",
       "105  0.166667  \n",
       "106  0.166667  \n",
       "28   0.159184  \n",
       "33   0.153477  \n",
       "104  0.142857  \n",
       "45   0.142857  \n",
       "103  0.142857  \n",
       "57   0.140351  \n",
       "34   0.136919  \n",
       "36   0.133705  \n",
       "98   0.133333  \n",
       "63   0.133333  \n",
       "42   0.131474  \n",
       "23   0.129721  \n",
       "29   0.129512  \n",
       "15   0.128457  \n",
       "59   0.126316  \n",
       "16   0.120183  \n",
       "7    0.116975  \n",
       "32   0.116550  \n",
       "13   0.115267  \n",
       "101  0.111111  \n",
       "102  0.111111  \n",
       "35   0.107969  \n",
       "85   0.107143  \n",
       "54   0.106557  \n",
       "3    0.106236  \n",
       "95   0.105263  "
      ]
     },
     "execution_count": 45,
     "metadata": {},
     "output_type": "execute_result"
    }
   ],
   "source": [
    "#Countries sorted by ratio of fraudulent transactions \n",
    "rate_df3 = rate_df2[rate_df2['ratio']>=.10].sort_values('ratio',ascending=False)\n",
    "rate_df3"
   ]
  },
  {
   "cell_type": "code",
   "execution_count": 46,
   "metadata": {
    "scrolled": false
   },
   "outputs": [
    {
     "data": {
      "image/png": "[encoded data removed]",
      "text/plain": [
       "<Figure size 1224x360 with 1 Axes>"
      ]
     },
     "metadata": {
      "needs_background": "light"
     },
     "output_type": "display_data"
    }
   ],
   "source": [
    "plt.figure(figsize=(17,5))\n",
    "ax = sns.barplot(rate_df3['country'].head(15),rate_df3['ratio'].head(15))\n",
    "ax.set_title(\"Countries with highest Fraud:Total Transaction Ratio\",fontsize=18);"
   ]
  },
  {
   "cell_type": "code",
   "execution_count": 47,
   "metadata": {},
   "outputs": [
    {
     "data": {
      "text/html": [
       "<div>\n",
       "<style scoped>\n",
       "    .dataframe tbody tr th:only-of-type {\n",
       "        vertical-align: middle;\n",
       "    }\n",
       "\n",
       "    .dataframe tbody tr th {\n",
       "        vertical-align: top;\n",
       "    }\n",
       "\n",
       "    .dataframe thead th {\n",
       "        text-align: right;\n",
       "    }\n",
       "</style>\n",
       "<table border=\"1\" class=\"dataframe\">\n",
       "  <thead>\n",
       "    <tr style=\"text-align: right;\">\n",
       "      <th></th>\n",
       "      <th>country</th>\n",
       "      <th>total_transactions</th>\n",
       "      <th>total_fraudulent</th>\n",
       "      <th>ratio</th>\n",
       "    </tr>\n",
       "  </thead>\n",
       "  <tbody>\n",
       "    <tr>\n",
       "      <th>0</th>\n",
       "      <td>United States</td>\n",
       "      <td>58049</td>\n",
       "      <td>5551</td>\n",
       "      <td>0.095626</td>\n",
       "    </tr>\n",
       "    <tr>\n",
       "      <th>1</th>\n",
       "      <td>China</td>\n",
       "      <td>12038</td>\n",
       "      <td>1043</td>\n",
       "      <td>0.086642</td>\n",
       "    </tr>\n",
       "    <tr>\n",
       "      <th>2</th>\n",
       "      <td>Japan</td>\n",
       "      <td>7306</td>\n",
       "      <td>715</td>\n",
       "      <td>0.097865</td>\n",
       "    </tr>\n",
       "    <tr>\n",
       "      <th>3</th>\n",
       "      <td>United Kingdom</td>\n",
       "      <td>4490</td>\n",
       "      <td>477</td>\n",
       "      <td>0.106236</td>\n",
       "    </tr>\n",
       "    <tr>\n",
       "      <th>4</th>\n",
       "      <td>Korea Republic of</td>\n",
       "      <td>4162</td>\n",
       "      <td>380</td>\n",
       "      <td>0.091302</td>\n",
       "    </tr>\n",
       "    <tr>\n",
       "      <th>7</th>\n",
       "      <td>Canada</td>\n",
       "      <td>2975</td>\n",
       "      <td>348</td>\n",
       "      <td>0.116975</td>\n",
       "    </tr>\n",
       "    <tr>\n",
       "      <th>6</th>\n",
       "      <td>France</td>\n",
       "      <td>3161</td>\n",
       "      <td>300</td>\n",
       "      <td>0.094907</td>\n",
       "    </tr>\n",
       "    <tr>\n",
       "      <th>8</th>\n",
       "      <td>Brazil</td>\n",
       "      <td>2961</td>\n",
       "      <td>270</td>\n",
       "      <td>0.091185</td>\n",
       "    </tr>\n",
       "    <tr>\n",
       "      <th>5</th>\n",
       "      <td>Germany</td>\n",
       "      <td>3646</td>\n",
       "      <td>262</td>\n",
       "      <td>0.071860</td>\n",
       "    </tr>\n",
       "    <tr>\n",
       "      <th>9</th>\n",
       "      <td>Italy</td>\n",
       "      <td>1944</td>\n",
       "      <td>166</td>\n",
       "      <td>0.085391</td>\n",
       "    </tr>\n",
       "    <tr>\n",
       "      <th>10</th>\n",
       "      <td>Australia</td>\n",
       "      <td>1844</td>\n",
       "      <td>165</td>\n",
       "      <td>0.089479</td>\n",
       "    </tr>\n",
       "    <tr>\n",
       "      <th>13</th>\n",
       "      <td>India</td>\n",
       "      <td>1310</td>\n",
       "      <td>151</td>\n",
       "      <td>0.115267</td>\n",
       "    </tr>\n",
       "    <tr>\n",
       "      <th>15</th>\n",
       "      <td>Mexico</td>\n",
       "      <td>1121</td>\n",
       "      <td>144</td>\n",
       "      <td>0.128457</td>\n",
       "    </tr>\n",
       "    <tr>\n",
       "      <th>12</th>\n",
       "      <td>Russian Federation</td>\n",
       "      <td>1616</td>\n",
       "      <td>134</td>\n",
       "      <td>0.082921</td>\n",
       "    </tr>\n",
       "    <tr>\n",
       "      <th>16</th>\n",
       "      <td>Sweden</td>\n",
       "      <td>1090</td>\n",
       "      <td>131</td>\n",
       "      <td>0.120183</td>\n",
       "    </tr>\n",
       "    <tr>\n",
       "      <th>11</th>\n",
       "      <td>Netherlands</td>\n",
       "      <td>1680</td>\n",
       "      <td>123</td>\n",
       "      <td>0.073214</td>\n",
       "    </tr>\n",
       "    <tr>\n",
       "      <th>14</th>\n",
       "      <td>Taiwan; Republic of China (ROC)</td>\n",
       "      <td>1237</td>\n",
       "      <td>99</td>\n",
       "      <td>0.080032</td>\n",
       "    </tr>\n",
       "    <tr>\n",
       "      <th>23</th>\n",
       "      <td>Norway</td>\n",
       "      <td>609</td>\n",
       "      <td>79</td>\n",
       "      <td>0.129721</td>\n",
       "    </tr>\n",
       "    <tr>\n",
       "      <th>28</th>\n",
       "      <td>Denmark</td>\n",
       "      <td>490</td>\n",
       "      <td>78</td>\n",
       "      <td>0.159184</td>\n",
       "    </tr>\n",
       "    <tr>\n",
       "      <th>18</th>\n",
       "      <td>South Africa</td>\n",
       "      <td>838</td>\n",
       "      <td>74</td>\n",
       "      <td>0.088305</td>\n",
       "    </tr>\n",
       "  </tbody>\n",
       "</table>\n",
       "</div>"
      ],
      "text/plain": [
       "                            country  total_transactions  total_fraudulent  \\\n",
       "0                     United States               58049              5551   \n",
       "1                             China               12038              1043   \n",
       "2                             Japan                7306               715   \n",
       "3                    United Kingdom                4490               477   \n",
       "4                 Korea Republic of                4162               380   \n",
       "7                            Canada                2975               348   \n",
       "6                            France                3161               300   \n",
       "8                            Brazil                2961               270   \n",
       "5                           Germany                3646               262   \n",
       "9                             Italy                1944               166   \n",
       "10                        Australia                1844               165   \n",
       "13                            India                1310               151   \n",
       "15                           Mexico                1121               144   \n",
       "12               Russian Federation                1616               134   \n",
       "16                           Sweden                1090               131   \n",
       "11                      Netherlands                1680               123   \n",
       "14  Taiwan; Republic of China (ROC)                1237                99   \n",
       "23                           Norway                 609                79   \n",
       "28                          Denmark                 490                78   \n",
       "18                     South Africa                 838                74   \n",
       "\n",
       "       ratio  \n",
       "0   0.095626  \n",
       "1   0.086642  \n",
       "2   0.097865  \n",
       "3   0.106236  \n",
       "4   0.091302  \n",
       "7   0.116975  \n",
       "6   0.094907  \n",
       "8   0.091185  \n",
       "5   0.071860  \n",
       "9   0.085391  \n",
       "10  0.089479  \n",
       "13  0.115267  \n",
       "15  0.128457  \n",
       "12  0.082921  \n",
       "16  0.120183  \n",
       "11  0.073214  \n",
       "14  0.080032  \n",
       "23  0.129721  \n",
       "28  0.159184  \n",
       "18  0.088305  "
      ]
     },
     "execution_count": 47,
     "metadata": {},
     "output_type": "execute_result"
    }
   ],
   "source": [
    "#Countries sorted by count of fraudulent transactions\n",
    "rate_df4 = rate_df2.sort_values('total_fraudulent',ascending=False).head(20)\n",
    "rate_df4"
   ]
  },
  {
   "cell_type": "code",
   "execution_count": 48,
   "metadata": {
    "scrolled": false
   },
   "outputs": [
    {
     "data": {
      "text/plain": [
       "Text(0.5, 1.0, 'Countries with highest Fraud:Total Transaction Count')"
      ]
     },
     "execution_count": 48,
     "metadata": {},
     "output_type": "execute_result"
    },
    {
     "data": {
      "image/png": "[encoded data removed]",
      "text/plain": [
       "<Figure size 1296x360 with 1 Axes>"
      ]
     },
     "metadata": {
      "needs_background": "light"
     },
     "output_type": "display_data"
    }
   ],
   "source": [
    "plt.figure(figsize=(18,5))\n",
    "ax = sns.barplot(rate_df4['country'].head(15),rate_df4['total_fraudulent'].head(15))\n",
    "ax.set_title(\"Countries with highest Fraud:Total Transaction Count\",fontsize=18)"
   ]
  },
  {
   "cell_type": "markdown",
   "metadata": {},
   "source": [
    "[Back to Table of Contents](#Table-of-Contents)"
   ]
  },
  {
   "cell_type": "markdown",
   "metadata": {},
   "source": [
    "### Step 2: Data Transformation\n",
    "To prepare data for modeling:\n",
    "- convert categorical features into numeric values\n",
    "- replace NaNs with 0, and\n",
    "- Undersample majority class to balance classes\n"
   ]
  },
  {
   "cell_type": "markdown",
   "metadata": {},
   "source": [
    "**Load country tagged data**"
   ]
  },
  {
   "cell_type": "code",
   "execution_count": 41,
   "metadata": {},
   "outputs": [
    {
     "data": {
      "text/html": [
       "<div>\n",
       "<style scoped>\n",
       "    .dataframe tbody tr th:only-of-type {\n",
       "        vertical-align: middle;\n",
       "    }\n",
       "\n",
       "    .dataframe tbody tr th {\n",
       "        vertical-align: top;\n",
       "    }\n",
       "\n",
       "    .dataframe thead th {\n",
       "        text-align: right;\n",
       "    }\n",
       "</style>\n",
       "<table border=\"1\" class=\"dataframe\">\n",
       "  <thead>\n",
       "    <tr style=\"text-align: right;\">\n",
       "      <th></th>\n",
       "      <th>Unnamed: 0</th>\n",
       "      <th>user_id</th>\n",
       "      <th>signup_time</th>\n",
       "      <th>purchase_time</th>\n",
       "      <th>purchase_value</th>\n",
       "      <th>device_id</th>\n",
       "      <th>source</th>\n",
       "      <th>browser</th>\n",
       "      <th>sex</th>\n",
       "      <th>age</th>\n",
       "      <th>ip_address</th>\n",
       "      <th>class</th>\n",
       "      <th>country</th>\n",
       "    </tr>\n",
       "  </thead>\n",
       "  <tbody>\n",
       "    <tr>\n",
       "      <th>0</th>\n",
       "      <td>0</td>\n",
       "      <td>22058</td>\n",
       "      <td>2015-02-24 22:55:49</td>\n",
       "      <td>2015-04-18 02:47:11</td>\n",
       "      <td>34</td>\n",
       "      <td>QVPSPJUOCKZAR</td>\n",
       "      <td>SEO</td>\n",
       "      <td>Chrome</td>\n",
       "      <td>M</td>\n",
       "      <td>39</td>\n",
       "      <td>7.327584e+08</td>\n",
       "      <td>0</td>\n",
       "      <td>Japan</td>\n",
       "    </tr>\n",
       "    <tr>\n",
       "      <th>1</th>\n",
       "      <td>1</td>\n",
       "      <td>333320</td>\n",
       "      <td>2015-06-07 20:39:50</td>\n",
       "      <td>2015-06-08 01:38:54</td>\n",
       "      <td>16</td>\n",
       "      <td>EOGFQPIZPYXFZ</td>\n",
       "      <td>Ads</td>\n",
       "      <td>Chrome</td>\n",
       "      <td>F</td>\n",
       "      <td>53</td>\n",
       "      <td>3.503114e+08</td>\n",
       "      <td>0</td>\n",
       "      <td>United States</td>\n",
       "    </tr>\n",
       "    <tr>\n",
       "      <th>2</th>\n",
       "      <td>2</td>\n",
       "      <td>1359</td>\n",
       "      <td>2015-01-01 18:52:44</td>\n",
       "      <td>2015-01-01 18:52:45</td>\n",
       "      <td>15</td>\n",
       "      <td>YSSKYOSJHPPLJ</td>\n",
       "      <td>SEO</td>\n",
       "      <td>Opera</td>\n",
       "      <td>M</td>\n",
       "      <td>53</td>\n",
       "      <td>2.621474e+09</td>\n",
       "      <td>1</td>\n",
       "      <td>United States</td>\n",
       "    </tr>\n",
       "    <tr>\n",
       "      <th>3</th>\n",
       "      <td>3</td>\n",
       "      <td>150084</td>\n",
       "      <td>2015-04-28 21:13:25</td>\n",
       "      <td>2015-05-04 13:54:50</td>\n",
       "      <td>44</td>\n",
       "      <td>ATGTXKYKUDUQN</td>\n",
       "      <td>SEO</td>\n",
       "      <td>Safari</td>\n",
       "      <td>M</td>\n",
       "      <td>41</td>\n",
       "      <td>3.840542e+09</td>\n",
       "      <td>0</td>\n",
       "      <td>NaN</td>\n",
       "    </tr>\n",
       "    <tr>\n",
       "      <th>4</th>\n",
       "      <td>4</td>\n",
       "      <td>221365</td>\n",
       "      <td>2015-07-21 07:09:52</td>\n",
       "      <td>2015-09-09 18:40:53</td>\n",
       "      <td>39</td>\n",
       "      <td>NAUITBZFJKHWW</td>\n",
       "      <td>Ads</td>\n",
       "      <td>Safari</td>\n",
       "      <td>M</td>\n",
       "      <td>45</td>\n",
       "      <td>4.155831e+08</td>\n",
       "      <td>0</td>\n",
       "      <td>United States</td>\n",
       "    </tr>\n",
       "  </tbody>\n",
       "</table>\n",
       "</div>"
      ],
      "text/plain": [
       "   Unnamed: 0  user_id          signup_time        purchase_time  \\\n",
       "0           0    22058  2015-02-24 22:55:49  2015-04-18 02:47:11   \n",
       "1           1   333320  2015-06-07 20:39:50  2015-06-08 01:38:54   \n",
       "2           2     1359  2015-01-01 18:52:44  2015-01-01 18:52:45   \n",
       "3           3   150084  2015-04-28 21:13:25  2015-05-04 13:54:50   \n",
       "4           4   221365  2015-07-21 07:09:52  2015-09-09 18:40:53   \n",
       "\n",
       "   purchase_value      device_id source browser sex  age    ip_address  class  \\\n",
       "0              34  QVPSPJUOCKZAR    SEO  Chrome   M   39  7.327584e+08      0   \n",
       "1              16  EOGFQPIZPYXFZ    Ads  Chrome   F   53  3.503114e+08      0   \n",
       "2              15  YSSKYOSJHPPLJ    SEO   Opera   M   53  2.621474e+09      1   \n",
       "3              44  ATGTXKYKUDUQN    SEO  Safari   M   41  3.840542e+09      0   \n",
       "4              39  NAUITBZFJKHWW    Ads  Safari   M   45  4.155831e+08      0   \n",
       "\n",
       "         country  \n",
       "0          Japan  \n",
       "1  United States  \n",
       "2  United States  \n",
       "3            NaN  \n",
       "4  United States  "
      ]
     },
     "execution_count": 41,
     "metadata": {},
     "output_type": "execute_result"
    }
   ],
   "source": [
    "fraud=pd.read_csv('../data/fraud_w_country.csv')\n",
    "fraud.head()"
   ]
  },
  {
   "cell_type": "markdown",
   "metadata": {},
   "source": [
    "**Ordinalize Categorical features**"
   ]
  },
  {
   "cell_type": "code",
   "execution_count": 49,
   "metadata": {},
   "outputs": [],
   "source": [
    "#Ordinalize Source\n",
    "source_dict = {'SEO':0, 'Ads':1, 'Direct':2}\n",
    "fraud.source = fraud.source.replace(source_dict)\n",
    "\n",
    "#Ordinalize Browser\n",
    "browser_dict = {'Chrome':0, 'Opera':1, 'Safari':2, 'IE':3, 'FireFox':4}\n",
    "fraud.browser =fraud.browser.replace(browser_dict)\n",
    "\n",
    "#Binarize Sex\n",
    "fraud['sex']=[1 if i == 'M' else 0 for i in fraud['sex']]"
   ]
  },
  {
   "cell_type": "code",
   "execution_count": 50,
   "metadata": {},
   "outputs": [],
   "source": [
    "fraud2 = fraud.copy()"
   ]
  },
  {
   "cell_type": "code",
   "execution_count": 51,
   "metadata": {},
   "outputs": [
    {
     "data": {
      "text/html": [
       "<div>\n",
       "<style scoped>\n",
       "    .dataframe tbody tr th:only-of-type {\n",
       "        vertical-align: middle;\n",
       "    }\n",
       "\n",
       "    .dataframe tbody tr th {\n",
       "        vertical-align: top;\n",
       "    }\n",
       "\n",
       "    .dataframe thead th {\n",
       "        text-align: right;\n",
       "    }\n",
       "</style>\n",
       "<table border=\"1\" class=\"dataframe\">\n",
       "  <thead>\n",
       "    <tr style=\"text-align: right;\">\n",
       "      <th></th>\n",
       "      <th>Unnamed: 0</th>\n",
       "      <th>user_id</th>\n",
       "      <th>signup_time</th>\n",
       "      <th>purchase_time</th>\n",
       "      <th>purchase_value</th>\n",
       "      <th>device_id</th>\n",
       "      <th>source</th>\n",
       "      <th>browser</th>\n",
       "      <th>sex</th>\n",
       "      <th>age</th>\n",
       "      <th>ip_address</th>\n",
       "      <th>class</th>\n",
       "      <th>country</th>\n",
       "    </tr>\n",
       "  </thead>\n",
       "  <tbody>\n",
       "    <tr>\n",
       "      <th>0</th>\n",
       "      <td>0</td>\n",
       "      <td>22058</td>\n",
       "      <td>2015-02-24 22:55:49</td>\n",
       "      <td>2015-04-18 02:47:11</td>\n",
       "      <td>34</td>\n",
       "      <td>QVPSPJUOCKZAR</td>\n",
       "      <td>0</td>\n",
       "      <td>0</td>\n",
       "      <td>1</td>\n",
       "      <td>39</td>\n",
       "      <td>7.327584e+08</td>\n",
       "      <td>0</td>\n",
       "      <td>Japan</td>\n",
       "    </tr>\n",
       "    <tr>\n",
       "      <th>1</th>\n",
       "      <td>1</td>\n",
       "      <td>333320</td>\n",
       "      <td>2015-06-07 20:39:50</td>\n",
       "      <td>2015-06-08 01:38:54</td>\n",
       "      <td>16</td>\n",
       "      <td>EOGFQPIZPYXFZ</td>\n",
       "      <td>1</td>\n",
       "      <td>0</td>\n",
       "      <td>0</td>\n",
       "      <td>53</td>\n",
       "      <td>3.503114e+08</td>\n",
       "      <td>0</td>\n",
       "      <td>United States</td>\n",
       "    </tr>\n",
       "    <tr>\n",
       "      <th>2</th>\n",
       "      <td>2</td>\n",
       "      <td>1359</td>\n",
       "      <td>2015-01-01 18:52:44</td>\n",
       "      <td>2015-01-01 18:52:45</td>\n",
       "      <td>15</td>\n",
       "      <td>YSSKYOSJHPPLJ</td>\n",
       "      <td>0</td>\n",
       "      <td>1</td>\n",
       "      <td>1</td>\n",
       "      <td>53</td>\n",
       "      <td>2.621474e+09</td>\n",
       "      <td>1</td>\n",
       "      <td>United States</td>\n",
       "    </tr>\n",
       "    <tr>\n",
       "      <th>3</th>\n",
       "      <td>3</td>\n",
       "      <td>150084</td>\n",
       "      <td>2015-04-28 21:13:25</td>\n",
       "      <td>2015-05-04 13:54:50</td>\n",
       "      <td>44</td>\n",
       "      <td>ATGTXKYKUDUQN</td>\n",
       "      <td>0</td>\n",
       "      <td>2</td>\n",
       "      <td>1</td>\n",
       "      <td>41</td>\n",
       "      <td>3.840542e+09</td>\n",
       "      <td>0</td>\n",
       "      <td>NaN</td>\n",
       "    </tr>\n",
       "    <tr>\n",
       "      <th>4</th>\n",
       "      <td>4</td>\n",
       "      <td>221365</td>\n",
       "      <td>2015-07-21 07:09:52</td>\n",
       "      <td>2015-09-09 18:40:53</td>\n",
       "      <td>39</td>\n",
       "      <td>NAUITBZFJKHWW</td>\n",
       "      <td>1</td>\n",
       "      <td>2</td>\n",
       "      <td>1</td>\n",
       "      <td>45</td>\n",
       "      <td>4.155831e+08</td>\n",
       "      <td>0</td>\n",
       "      <td>United States</td>\n",
       "    </tr>\n",
       "  </tbody>\n",
       "</table>\n",
       "</div>"
      ],
      "text/plain": [
       "   Unnamed: 0  user_id          signup_time        purchase_time  \\\n",
       "0           0    22058  2015-02-24 22:55:49  2015-04-18 02:47:11   \n",
       "1           1   333320  2015-06-07 20:39:50  2015-06-08 01:38:54   \n",
       "2           2     1359  2015-01-01 18:52:44  2015-01-01 18:52:45   \n",
       "3           3   150084  2015-04-28 21:13:25  2015-05-04 13:54:50   \n",
       "4           4   221365  2015-07-21 07:09:52  2015-09-09 18:40:53   \n",
       "\n",
       "   purchase_value      device_id  source  browser  sex  age    ip_address  \\\n",
       "0              34  QVPSPJUOCKZAR       0        0    1   39  7.327584e+08   \n",
       "1              16  EOGFQPIZPYXFZ       1        0    0   53  3.503114e+08   \n",
       "2              15  YSSKYOSJHPPLJ       0        1    1   53  2.621474e+09   \n",
       "3              44  ATGTXKYKUDUQN       0        2    1   41  3.840542e+09   \n",
       "4              39  NAUITBZFJKHWW       1        2    1   45  4.155831e+08   \n",
       "\n",
       "   class        country  \n",
       "0      0          Japan  \n",
       "1      0  United States  \n",
       "2      1  United States  \n",
       "3      0            NaN  \n",
       "4      0  United States  "
      ]
     },
     "execution_count": 51,
     "metadata": {},
     "output_type": "execute_result"
    }
   ],
   "source": [
    "fraud2.head()"
   ]
  },
  {
   "cell_type": "code",
   "execution_count": 52,
   "metadata": {},
   "outputs": [],
   "source": [
    "labels = fraud2['country'].astype('category').cat.categories.tolist()\n",
    "replace_map = {'country' : {k: v for k,v in zip(labels,list(range(1,len(labels)+1)))}}\n",
    "#replace_map"
   ]
  },
  {
   "cell_type": "code",
   "execution_count": 53,
   "metadata": {},
   "outputs": [],
   "source": [
    "#replace country names with numerical values\n",
    "fraud2.replace(replace_map,inplace=True)\n",
    "#Fill NaNs with zero\n",
    "fraud2['country'].fillna(0,inplace=True)"
   ]
  },
  {
   "cell_type": "code",
   "execution_count": 54,
   "metadata": {
    "scrolled": true
   },
   "outputs": [
    {
     "data": {
      "text/html": [
       "<div>\n",
       "<style scoped>\n",
       "    .dataframe tbody tr th:only-of-type {\n",
       "        vertical-align: middle;\n",
       "    }\n",
       "\n",
       "    .dataframe tbody tr th {\n",
       "        vertical-align: top;\n",
       "    }\n",
       "\n",
       "    .dataframe thead th {\n",
       "        text-align: right;\n",
       "    }\n",
       "</style>\n",
       "<table border=\"1\" class=\"dataframe\">\n",
       "  <thead>\n",
       "    <tr style=\"text-align: right;\">\n",
       "      <th></th>\n",
       "      <th>Unnamed: 0</th>\n",
       "      <th>user_id</th>\n",
       "      <th>signup_time</th>\n",
       "      <th>purchase_time</th>\n",
       "      <th>purchase_value</th>\n",
       "      <th>device_id</th>\n",
       "      <th>source</th>\n",
       "      <th>browser</th>\n",
       "      <th>sex</th>\n",
       "      <th>age</th>\n",
       "      <th>ip_address</th>\n",
       "      <th>class</th>\n",
       "      <th>country</th>\n",
       "    </tr>\n",
       "  </thead>\n",
       "  <tbody>\n",
       "    <tr>\n",
       "      <th>0</th>\n",
       "      <td>0</td>\n",
       "      <td>22058</td>\n",
       "      <td>2015-02-24 22:55:49</td>\n",
       "      <td>2015-04-18 02:47:11</td>\n",
       "      <td>34</td>\n",
       "      <td>QVPSPJUOCKZAR</td>\n",
       "      <td>0</td>\n",
       "      <td>0</td>\n",
       "      <td>1</td>\n",
       "      <td>39</td>\n",
       "      <td>7.327584e+08</td>\n",
       "      <td>0</td>\n",
       "      <td>85.0</td>\n",
       "    </tr>\n",
       "    <tr>\n",
       "      <th>1</th>\n",
       "      <td>1</td>\n",
       "      <td>333320</td>\n",
       "      <td>2015-06-07 20:39:50</td>\n",
       "      <td>2015-06-08 01:38:54</td>\n",
       "      <td>16</td>\n",
       "      <td>EOGFQPIZPYXFZ</td>\n",
       "      <td>1</td>\n",
       "      <td>0</td>\n",
       "      <td>0</td>\n",
       "      <td>53</td>\n",
       "      <td>3.503114e+08</td>\n",
       "      <td>0</td>\n",
       "      <td>172.0</td>\n",
       "    </tr>\n",
       "    <tr>\n",
       "      <th>2</th>\n",
       "      <td>2</td>\n",
       "      <td>1359</td>\n",
       "      <td>2015-01-01 18:52:44</td>\n",
       "      <td>2015-01-01 18:52:45</td>\n",
       "      <td>15</td>\n",
       "      <td>YSSKYOSJHPPLJ</td>\n",
       "      <td>0</td>\n",
       "      <td>1</td>\n",
       "      <td>1</td>\n",
       "      <td>53</td>\n",
       "      <td>2.621474e+09</td>\n",
       "      <td>1</td>\n",
       "      <td>172.0</td>\n",
       "    </tr>\n",
       "    <tr>\n",
       "      <th>3</th>\n",
       "      <td>3</td>\n",
       "      <td>150084</td>\n",
       "      <td>2015-04-28 21:13:25</td>\n",
       "      <td>2015-05-04 13:54:50</td>\n",
       "      <td>44</td>\n",
       "      <td>ATGTXKYKUDUQN</td>\n",
       "      <td>0</td>\n",
       "      <td>2</td>\n",
       "      <td>1</td>\n",
       "      <td>41</td>\n",
       "      <td>3.840542e+09</td>\n",
       "      <td>0</td>\n",
       "      <td>0.0</td>\n",
       "    </tr>\n",
       "    <tr>\n",
       "      <th>4</th>\n",
       "      <td>4</td>\n",
       "      <td>221365</td>\n",
       "      <td>2015-07-21 07:09:52</td>\n",
       "      <td>2015-09-09 18:40:53</td>\n",
       "      <td>39</td>\n",
       "      <td>NAUITBZFJKHWW</td>\n",
       "      <td>1</td>\n",
       "      <td>2</td>\n",
       "      <td>1</td>\n",
       "      <td>45</td>\n",
       "      <td>4.155831e+08</td>\n",
       "      <td>0</td>\n",
       "      <td>172.0</td>\n",
       "    </tr>\n",
       "  </tbody>\n",
       "</table>\n",
       "</div>"
      ],
      "text/plain": [
       "   Unnamed: 0  user_id          signup_time        purchase_time  \\\n",
       "0           0    22058  2015-02-24 22:55:49  2015-04-18 02:47:11   \n",
       "1           1   333320  2015-06-07 20:39:50  2015-06-08 01:38:54   \n",
       "2           2     1359  2015-01-01 18:52:44  2015-01-01 18:52:45   \n",
       "3           3   150084  2015-04-28 21:13:25  2015-05-04 13:54:50   \n",
       "4           4   221365  2015-07-21 07:09:52  2015-09-09 18:40:53   \n",
       "\n",
       "   purchase_value      device_id  source  browser  sex  age    ip_address  \\\n",
       "0              34  QVPSPJUOCKZAR       0        0    1   39  7.327584e+08   \n",
       "1              16  EOGFQPIZPYXFZ       1        0    0   53  3.503114e+08   \n",
       "2              15  YSSKYOSJHPPLJ       0        1    1   53  2.621474e+09   \n",
       "3              44  ATGTXKYKUDUQN       0        2    1   41  3.840542e+09   \n",
       "4              39  NAUITBZFJKHWW       1        2    1   45  4.155831e+08   \n",
       "\n",
       "   class  country  \n",
       "0      0     85.0  \n",
       "1      0    172.0  \n",
       "2      1    172.0  \n",
       "3      0      0.0  \n",
       "4      0    172.0  "
      ]
     },
     "execution_count": 54,
     "metadata": {},
     "output_type": "execute_result"
    }
   ],
   "source": [
    "fraud2.head()"
   ]
  },
  {
   "cell_type": "markdown",
   "metadata": {},
   "source": [
    "[Back to Table of Contents](#Table-of-Contents)"
   ]
  },
  {
   "cell_type": "markdown",
   "metadata": {},
   "source": [
    "**Undersample majority class to balance classes**"
   ]
  },
  {
   "cell_type": "code",
   "execution_count": 55,
   "metadata": {},
   "outputs": [],
   "source": [
    "from random import random "
   ]
  },
  {
   "cell_type": "code",
   "execution_count": 97,
   "metadata": {},
   "outputs": [],
   "source": [
    "no_frauds = len(fraud2[fraud2['class'] == 1])\n",
    "no_fraud_indices = fraud2[fraud2['class'] == 0].index\n",
    "\n",
    "random_indices = np.random.choice(no_fraud_indices,no_frauds, replace=False)\n",
    "fraud_indices = fraud2[fraud2['class'] == 1].index\n",
    "\n",
    "under_sample_indices = np.concatenate([fraud_indices,random_indices])\n",
    "under_sample = fraud2.loc[under_sample_indices]\n"
   ]
  },
  {
   "cell_type": "code",
   "execution_count": 57,
   "metadata": {},
   "outputs": [
    {
     "data": {
      "text/plain": [
       "(28302, 13)"
      ]
     },
     "execution_count": 57,
     "metadata": {},
     "output_type": "execute_result"
    }
   ],
   "source": [
    "under_sample.shape"
   ]
  },
  {
   "cell_type": "code",
   "execution_count": 58,
   "metadata": {},
   "outputs": [
    {
     "data": {
      "text/html": [
       "<div>\n",
       "<style scoped>\n",
       "    .dataframe tbody tr th:only-of-type {\n",
       "        vertical-align: middle;\n",
       "    }\n",
       "\n",
       "    .dataframe tbody tr th {\n",
       "        vertical-align: top;\n",
       "    }\n",
       "\n",
       "    .dataframe thead th {\n",
       "        text-align: right;\n",
       "    }\n",
       "</style>\n",
       "<table border=\"1\" class=\"dataframe\">\n",
       "  <thead>\n",
       "    <tr style=\"text-align: right;\">\n",
       "      <th></th>\n",
       "      <th>Unnamed: 0</th>\n",
       "      <th>user_id</th>\n",
       "      <th>signup_time</th>\n",
       "      <th>purchase_time</th>\n",
       "      <th>purchase_value</th>\n",
       "      <th>device_id</th>\n",
       "      <th>source</th>\n",
       "      <th>browser</th>\n",
       "      <th>sex</th>\n",
       "      <th>age</th>\n",
       "      <th>ip_address</th>\n",
       "      <th>class</th>\n",
       "      <th>country</th>\n",
       "    </tr>\n",
       "  </thead>\n",
       "  <tbody>\n",
       "    <tr>\n",
       "      <th>2</th>\n",
       "      <td>2</td>\n",
       "      <td>1359</td>\n",
       "      <td>2015-01-01 18:52:44</td>\n",
       "      <td>2015-01-01 18:52:45</td>\n",
       "      <td>15</td>\n",
       "      <td>YSSKYOSJHPPLJ</td>\n",
       "      <td>0</td>\n",
       "      <td>1</td>\n",
       "      <td>1</td>\n",
       "      <td>53</td>\n",
       "      <td>2.621474e+09</td>\n",
       "      <td>1</td>\n",
       "      <td>172.0</td>\n",
       "    </tr>\n",
       "    <tr>\n",
       "      <th>24</th>\n",
       "      <td>24</td>\n",
       "      <td>171711</td>\n",
       "      <td>2015-01-11 01:51:15</td>\n",
       "      <td>2015-01-11 01:51:16</td>\n",
       "      <td>52</td>\n",
       "      <td>YPLQGKBAAULUV</td>\n",
       "      <td>2</td>\n",
       "      <td>3</td>\n",
       "      <td>0</td>\n",
       "      <td>35</td>\n",
       "      <td>1.120619e+09</td>\n",
       "      <td>1</td>\n",
       "      <td>172.0</td>\n",
       "    </tr>\n",
       "    <tr>\n",
       "      <th>25</th>\n",
       "      <td>25</td>\n",
       "      <td>59780</td>\n",
       "      <td>2015-01-04 22:32:33</td>\n",
       "      <td>2015-01-16 01:13:43</td>\n",
       "      <td>31</td>\n",
       "      <td>WUMOBGUCBOXPO</td>\n",
       "      <td>0</td>\n",
       "      <td>4</td>\n",
       "      <td>1</td>\n",
       "      <td>36</td>\n",
       "      <td>1.752167e+09</td>\n",
       "      <td>1</td>\n",
       "      <td>172.0</td>\n",
       "    </tr>\n",
       "    <tr>\n",
       "      <th>29</th>\n",
       "      <td>29</td>\n",
       "      <td>151705</td>\n",
       "      <td>2015-01-07 03:44:53</td>\n",
       "      <td>2015-01-07 03:44:54</td>\n",
       "      <td>48</td>\n",
       "      <td>URHCRIXOMLJMH</td>\n",
       "      <td>0</td>\n",
       "      <td>0</td>\n",
       "      <td>0</td>\n",
       "      <td>27</td>\n",
       "      <td>2.836025e+09</td>\n",
       "      <td>1</td>\n",
       "      <td>172.0</td>\n",
       "    </tr>\n",
       "    <tr>\n",
       "      <th>59</th>\n",
       "      <td>59</td>\n",
       "      <td>345865</td>\n",
       "      <td>2015-02-01 05:59:23</td>\n",
       "      <td>2015-02-20 08:09:10</td>\n",
       "      <td>36</td>\n",
       "      <td>FKQPZUELCRKBL</td>\n",
       "      <td>0</td>\n",
       "      <td>3</td>\n",
       "      <td>1</td>\n",
       "      <td>30</td>\n",
       "      <td>2.740590e+09</td>\n",
       "      <td>1</td>\n",
       "      <td>61.0</td>\n",
       "    </tr>\n",
       "  </tbody>\n",
       "</table>\n",
       "</div>"
      ],
      "text/plain": [
       "    Unnamed: 0  user_id          signup_time        purchase_time  \\\n",
       "2            2     1359  2015-01-01 18:52:44  2015-01-01 18:52:45   \n",
       "24          24   171711  2015-01-11 01:51:15  2015-01-11 01:51:16   \n",
       "25          25    59780  2015-01-04 22:32:33  2015-01-16 01:13:43   \n",
       "29          29   151705  2015-01-07 03:44:53  2015-01-07 03:44:54   \n",
       "59          59   345865  2015-02-01 05:59:23  2015-02-20 08:09:10   \n",
       "\n",
       "    purchase_value      device_id  source  browser  sex  age    ip_address  \\\n",
       "2               15  YSSKYOSJHPPLJ       0        1    1   53  2.621474e+09   \n",
       "24              52  YPLQGKBAAULUV       2        3    0   35  1.120619e+09   \n",
       "25              31  WUMOBGUCBOXPO       0        4    1   36  1.752167e+09   \n",
       "29              48  URHCRIXOMLJMH       0        0    0   27  2.836025e+09   \n",
       "59              36  FKQPZUELCRKBL       0        3    1   30  2.740590e+09   \n",
       "\n",
       "    class  country  \n",
       "2       1    172.0  \n",
       "24      1    172.0  \n",
       "25      1    172.0  \n",
       "29      1    172.0  \n",
       "59      1     61.0  "
      ]
     },
     "execution_count": 58,
     "metadata": {},
     "output_type": "execute_result"
    }
   ],
   "source": [
    "under_sample.head()"
   ]
  },
  {
   "cell_type": "code",
   "execution_count": 59,
   "metadata": {},
   "outputs": [
    {
     "data": {
      "text/plain": [
       "1    14151\n",
       "0    14151\n",
       "Name: class, dtype: int64"
      ]
     },
     "execution_count": 59,
     "metadata": {},
     "output_type": "execute_result"
    }
   ],
   "source": [
    "under_sample['class'].value_counts()"
   ]
  },
  {
   "cell_type": "code",
   "execution_count": 60,
   "metadata": {},
   "outputs": [
    {
     "data": {
      "image/png": "[encoded data removed]",
      "text/plain": [
       "<Figure size 432x288 with 1 Axes>"
      ]
     },
     "metadata": {
      "needs_background": "light"
     },
     "output_type": "display_data"
    }
   ],
   "source": [
    "plt.figure(figsize=(6,4))\n",
    "ax = sns.barplot(under_sample['class'].unique(),under_sample['class'].value_counts())\n",
    "ax.set_title(\"Unqiue Values and Counts of Class now Balanced\",fontsize=14);"
   ]
  },
  {
   "cell_type": "markdown",
   "metadata": {},
   "source": [
    "### Step 3: Modeling\n",
    "Classification models to explore:\n",
    "\n",
    "1. RandomForest Classifier <br>\n",
    "2. KNN\n",
    "3. AdaBoost\n",
    "4. Naive Bayes\n",
    "5. Bagged Decision Tree"
   ]
  },
  {
   "cell_type": "code",
   "execution_count": 61,
   "metadata": {
    "scrolled": true
   },
   "outputs": [
    {
     "data": {
      "text/html": [
       "<div>\n",
       "<style scoped>\n",
       "    .dataframe tbody tr th:only-of-type {\n",
       "        vertical-align: middle;\n",
       "    }\n",
       "\n",
       "    .dataframe tbody tr th {\n",
       "        vertical-align: top;\n",
       "    }\n",
       "\n",
       "    .dataframe thead th {\n",
       "        text-align: right;\n",
       "    }\n",
       "</style>\n",
       "<table border=\"1\" class=\"dataframe\">\n",
       "  <thead>\n",
       "    <tr style=\"text-align: right;\">\n",
       "      <th></th>\n",
       "      <th>Unnamed: 0</th>\n",
       "      <th>user_id</th>\n",
       "      <th>purchase_value</th>\n",
       "      <th>source</th>\n",
       "      <th>browser</th>\n",
       "      <th>sex</th>\n",
       "      <th>age</th>\n",
       "      <th>ip_address</th>\n",
       "      <th>class</th>\n",
       "      <th>country</th>\n",
       "    </tr>\n",
       "  </thead>\n",
       "  <tbody>\n",
       "    <tr>\n",
       "      <th>0</th>\n",
       "      <td>0</td>\n",
       "      <td>22058</td>\n",
       "      <td>34</td>\n",
       "      <td>0</td>\n",
       "      <td>0</td>\n",
       "      <td>1</td>\n",
       "      <td>39</td>\n",
       "      <td>7.327584e+08</td>\n",
       "      <td>0</td>\n",
       "      <td>85.0</td>\n",
       "    </tr>\n",
       "    <tr>\n",
       "      <th>1</th>\n",
       "      <td>1</td>\n",
       "      <td>333320</td>\n",
       "      <td>16</td>\n",
       "      <td>1</td>\n",
       "      <td>0</td>\n",
       "      <td>0</td>\n",
       "      <td>53</td>\n",
       "      <td>3.503114e+08</td>\n",
       "      <td>0</td>\n",
       "      <td>172.0</td>\n",
       "    </tr>\n",
       "    <tr>\n",
       "      <th>2</th>\n",
       "      <td>2</td>\n",
       "      <td>1359</td>\n",
       "      <td>15</td>\n",
       "      <td>0</td>\n",
       "      <td>1</td>\n",
       "      <td>1</td>\n",
       "      <td>53</td>\n",
       "      <td>2.621474e+09</td>\n",
       "      <td>1</td>\n",
       "      <td>172.0</td>\n",
       "    </tr>\n",
       "    <tr>\n",
       "      <th>3</th>\n",
       "      <td>3</td>\n",
       "      <td>150084</td>\n",
       "      <td>44</td>\n",
       "      <td>0</td>\n",
       "      <td>2</td>\n",
       "      <td>1</td>\n",
       "      <td>41</td>\n",
       "      <td>3.840542e+09</td>\n",
       "      <td>0</td>\n",
       "      <td>0.0</td>\n",
       "    </tr>\n",
       "    <tr>\n",
       "      <th>4</th>\n",
       "      <td>4</td>\n",
       "      <td>221365</td>\n",
       "      <td>39</td>\n",
       "      <td>1</td>\n",
       "      <td>2</td>\n",
       "      <td>1</td>\n",
       "      <td>45</td>\n",
       "      <td>4.155831e+08</td>\n",
       "      <td>0</td>\n",
       "      <td>172.0</td>\n",
       "    </tr>\n",
       "  </tbody>\n",
       "</table>\n",
       "</div>"
      ],
      "text/plain": [
       "   Unnamed: 0  user_id  purchase_value  source  browser  sex  age  \\\n",
       "0           0    22058              34       0        0    1   39   \n",
       "1           1   333320              16       1        0    0   53   \n",
       "2           2     1359              15       0        1    1   53   \n",
       "3           3   150084              44       0        2    1   41   \n",
       "4           4   221365              39       1        2    1   45   \n",
       "\n",
       "     ip_address  class  country  \n",
       "0  7.327584e+08      0     85.0  \n",
       "1  3.503114e+08      0    172.0  \n",
       "2  2.621474e+09      1    172.0  \n",
       "3  3.840542e+09      0      0.0  \n",
       "4  4.155831e+08      0    172.0  "
      ]
     },
     "execution_count": 61,
     "metadata": {},
     "output_type": "execute_result"
    }
   ],
   "source": [
    "fraud2._get_numeric_data().head()"
   ]
  },
  {
   "cell_type": "code",
   "execution_count": 62,
   "metadata": {},
   "outputs": [],
   "source": [
    "#Excluded ip address because country is a more informative feature (more than one ip address maps to each country)\n",
    "features = ['user_id',\n",
    "           'purchase_value',\n",
    "           'source', \n",
    "           'browser',\n",
    "           'sex', \n",
    "           'age', \n",
    "           'country']"
   ]
  },
  {
   "cell_type": "code",
   "execution_count": 63,
   "metadata": {},
   "outputs": [],
   "source": [
    "X =under_sample[features]\n",
    "y=under_sample['class']"
   ]
  },
  {
   "cell_type": "code",
   "execution_count": 64,
   "metadata": {},
   "outputs": [],
   "source": [
    "#X= fraud2[features]\n",
    "#y=fraud2['class']"
   ]
  },
  {
   "cell_type": "code",
   "execution_count": 65,
   "metadata": {},
   "outputs": [],
   "source": [
    "X_train,X_test,y_train,y_test = train_test_split(X,y,test_size=0.33,stratify=y)"
   ]
  },
  {
   "cell_type": "markdown",
   "metadata": {},
   "source": [
    "1. RandomForest Classifier"
   ]
  },
  {
   "cell_type": "code",
   "execution_count": 66,
   "metadata": {},
   "outputs": [
    {
     "name": "stdout",
     "output_type": "stream",
     "text": [
      "RF with default estimators and max_depth\n",
      "Precision: 0.6892430278884463\n",
      "Recall 0.5927194860813705\n",
      "Fl-Score 0.6373474556758002\n"
     ]
    }
   ],
   "source": [
    "#Baseline scores and RF defaults \n",
    "rf = RandomForestClassifier(n_estimators=10) \n",
    "rf.fit(X_train,y_train)\n",
    "rf_preds= rf.predict(X_test)\n",
    "print(\"RF with default estimators and max_depth\")\n",
    "print(\"Precision:\",precision_score(y_test,rf_preds))\n",
    "print(\"Recall\",recall_score(y_test,rf_preds))\n",
    "print(\"Fl-Score\",f1_score(y_test,rf_preds));"
   ]
  },
  {
   "cell_type": "code",
   "execution_count": 67,
   "metadata": {
    "scrolled": false
   },
   "outputs": [
    {
     "name": "stdout",
     "output_type": "stream",
     "text": [
      "RF with 50 estimators  and max_depth of 20 and min_sample_split 2\n",
      "Precision: 0.6747149564050973\n",
      "Recall 0.6462526766595289\n",
      "Fl-Score 0.6601771847314887\n",
      "\n",
      "RF with 50 estimators  and max_depth of 20 and min_sample_split 5\n",
      "Precision: 0.6851291598789854\n",
      "Recall 0.630406852248394\n",
      "Fl-Score 0.6566298650607785\n",
      "\n",
      "RF with 50 estimators  and max_depth of 30 and min_sample_split 2\n",
      "Precision: 0.6832183908045977\n",
      "Recall 0.6364025695931478\n",
      "Fl-Score 0.6589800443458981\n",
      "\n",
      "RF with 50 estimators  and max_depth of 30 and min_sample_split 5\n",
      "Precision: 0.6811794517392306\n",
      "Recall 0.6331905781584583\n",
      "Fl-Score 0.6563089557207857\n",
      "\n",
      "RF with 100 estimators  and max_depth of 20 and min_sample_split 2\n",
      "Precision: 0.6842345425507643\n",
      "Recall 0.6421841541755888\n",
      "Fl-Score 0.6625428034905556\n",
      "\n",
      "RF with 100 estimators  and max_depth of 20 and min_sample_split 5\n",
      "Precision: 0.6876883839554834\n",
      "Recall 0.635117773019272\n",
      "Fl-Score 0.6603584548591784\n",
      "\n",
      "RF with 100 estimators  and max_depth of 30 and min_sample_split 2\n",
      "Precision: 0.6903285090742017\n",
      "Recall 0.6434689507494646\n",
      "Fl-Score 0.6660755846170896\n",
      "\n",
      "RF with 100 estimators  and max_depth of 30 and min_sample_split 5\n",
      "Precision: 0.6907459867799811\n",
      "Recall 0.6265524625267666\n",
      "Fl-Score 0.6570851111610151\n",
      "\n",
      "RF with 150 estimators  and max_depth of 20 and min_sample_split 2\n",
      "Precision: 0.6785632578357356\n",
      "Recall 0.635117773019272\n",
      "Fl-Score 0.6561221103860193\n",
      "\n",
      "RF with 150 estimators  and max_depth of 20 and min_sample_split 5\n",
      "Precision: 0.6901114206128134\n",
      "Recall 0.6366167023554604\n",
      "Fl-Score 0.662285586990421\n",
      "\n",
      "RF with 150 estimators  and max_depth of 30 and min_sample_split 2\n",
      "Precision: 0.6830889092575618\n",
      "Recall 0.6383297644539615\n",
      "Fl-Score 0.6599512951073722\n",
      "\n",
      "RF with 150 estimators  and max_depth of 30 and min_sample_split 5\n",
      "Precision: 0.6912689173457509\n",
      "Recall 0.6357601713062099\n",
      "Fl-Score 0.6623535973229224\n",
      "\n"
     ]
    }
   ],
   "source": [
    "#Manual Tuning of RF \n",
    "for i in [50,100,150]:\n",
    "    for j in [20,30]:\n",
    "        for k in [2,5]:\n",
    "            rf = RandomForestClassifier(n_estimators=i,max_depth=j,min_samples_split=k)\n",
    "            rf.fit(X_train,y_train)\n",
    "            rf_preds= rf.predict(X_test)\n",
    "\n",
    "            print(\"RF with \"+str(i) +\" estimators\", \" and max_depth of \"+ str(j)+\" and min_sample_split \"+str(k))\n",
    "            print(\"Precision:\",precision_score(y_test,rf_preds))\n",
    "            print(\"Recall\",recall_score(y_test,rf_preds))\n",
    "            print(\"Fl-Score\",f1_score(y_test,rf_preds))\n",
    "            print(\"\")"
   ]
  },
  {
   "cell_type": "markdown",
   "metadata": {},
   "source": [
    "Best hyperparameters: \n",
    "    - n_estimators: 100\n",
    "    - max_depth: 30\n",
    "    - min_samples_split: 5"
   ]
  },
  {
   "cell_type": "markdown",
   "metadata": {},
   "source": [
    "Implement best params for RandomForest:"
   ]
  },
  {
   "cell_type": "code",
   "execution_count": 99,
   "metadata": {},
   "outputs": [
    {
     "name": "stdout",
     "output_type": "stream",
     "text": [
      "RF with 100 estimators, max_depth=30, min_sample_split=5\n",
      "Precision: 0.6939940625713633\n",
      "Recall 0.6507494646680942\n",
      "Fl-Score 0.6716764283346226\n"
     ]
    }
   ],
   "source": [
    "rf = RandomForestClassifier(n_estimators=100,max_depth=30,min_samples_split=5) \n",
    "rf.fit(X_train,y_train)\n",
    "rf_preds= rf.predict(X_test)\n",
    "print(\"RF with 100 estimators, max_depth=30, min_sample_split=5\")\n",
    "print(\"Precision:\",precision_score(y_test,rf_preds))\n",
    "print(\"Recall\",recall_score(y_test,rf_preds))\n",
    "print(\"Fl-Score\",f1_score(y_test,rf_preds));"
   ]
  },
  {
   "cell_type": "markdown",
   "metadata": {},
   "source": [
    "2. KNN"
   ]
  },
  {
   "cell_type": "markdown",
   "metadata": {},
   "source": [
    "This model is not the best at scale (as is RandomForest) but we observe the results to see if its a better model on the current data. "
   ]
  },
  {
   "cell_type": "code",
   "execution_count": 69,
   "metadata": {},
   "outputs": [],
   "source": [
    "from sklearn.preprocessing import StandardScaler"
   ]
  },
  {
   "cell_type": "code",
   "execution_count": 70,
   "metadata": {},
   "outputs": [
    {
     "name": "stderr",
     "output_type": "stream",
     "text": [
      "/Users/anaconda3/lib/python3.7/site-packages/sklearn/preprocessing/data.py:625: DataConversionWarning: Data with input dtype int64, float64 were all converted to float64 by StandardScaler.\n",
      "  return self.partial_fit(X, y)\n",
      "/Users/anaconda3/lib/python3.7/site-packages/sklearn/base.py:462: DataConversionWarning: Data with input dtype int64, float64 were all converted to float64 by StandardScaler.\n",
      "  return self.fit(X, **fit_params).transform(X)\n",
      "/Users/anaconda3/lib/python3.7/site-packages/ipykernel_launcher.py:4: DataConversionWarning: Data with input dtype int64, float64 were all converted to float64 by StandardScaler.\n",
      "  after removing the cwd from sys.path.\n"
     ]
    },
    {
     "name": "stdout",
     "output_type": "stream",
     "text": [
      "Precision: 0.5844864548820893\n",
      "Recall 0.6421841541755888\n",
      "Fl-Score 0.6119783695541272\n"
     ]
    }
   ],
   "source": [
    "#try scaling data first?\n",
    "ss=StandardScaler()\n",
    "X_train_sc= ss.fit_transform(X_train)\n",
    "X_test_sc = ss.transform(X_test)\n",
    "#Baseline with faults on undersampled data: \n",
    "knn = KNeighborsClassifier()\n",
    "knn.fit(X_train_sc,y_train)\n",
    "knn_preds = knn.predict(X_test_sc)\n",
    "print(\"Precision:\",precision_score(y_test,knn_preds))\n",
    "print(\"Recall\",recall_score(y_test,knn_preds))\n",
    "print(\"Fl-Score\",f1_score(y_test,knn_preds))"
   ]
  },
  {
   "cell_type": "markdown",
   "metadata": {},
   "source": [
    "Gridsearch for best KNN Params"
   ]
  },
  {
   "cell_type": "code",
   "execution_count": 71,
   "metadata": {},
   "outputs": [],
   "source": [
    "knn_params = {\n",
    "    'n_neighbors':[1,3,5,7,9,15],\n",
    "    'weights':['uniform','distance'],\n",
    "    'metric': ['euclidean', 'manhattan']\n",
    "}"
   ]
  },
  {
   "cell_type": "code",
   "execution_count": 72,
   "metadata": {},
   "outputs": [
    {
     "name": "stderr",
     "output_type": "stream",
     "text": [
      "/Users/anaconda3/lib/python3.7/site-packages/sklearn/model_selection/_split.py:2053: FutureWarning: You should specify a value for 'cv' instead of relying on the default value. The default value will change from 3 to 5 in version 0.22.\n",
      "  warnings.warn(CV_WARNING, FutureWarning)\n",
      "[Parallel(n_jobs=1)]: Using backend SequentialBackend with 1 concurrent workers.\n"
     ]
    },
    {
     "name": "stdout",
     "output_type": "stream",
     "text": [
      "Fitting 3 folds for each of 24 candidates, totalling 72 fits\n"
     ]
    },
    {
     "name": "stderr",
     "output_type": "stream",
     "text": [
      "[Parallel(n_jobs=1)]: Done  72 out of  72 | elapsed:  1.3min finished\n"
     ]
    },
    {
     "data": {
      "text/plain": [
       "GridSearchCV(cv='warn', error_score='raise-deprecating',\n",
       "       estimator=KNeighborsClassifier(algorithm='auto', leaf_size=30, metric='minkowski',\n",
       "           metric_params=None, n_jobs=None, n_neighbors=5, p=2,\n",
       "           weights='uniform'),\n",
       "       fit_params=None, iid='warn', n_jobs=None,\n",
       "       param_grid={'n_neighbors': [1, 3, 5, 7, 9, 15], 'weights': ['uniform', 'distance'], 'metric': ['euclidean', 'manhattan']},\n",
       "       pre_dispatch='2*n_jobs', refit=True, return_train_score='warn',\n",
       "       scoring=None, verbose=1)"
      ]
     },
     "execution_count": 72,
     "metadata": {},
     "output_type": "execute_result"
    }
   ],
   "source": [
    "knn_gridsearcher = GridSearchCV(KNeighborsClassifier(), knn_params, verbose=1)\n",
    "knn_gridsearcher.fit(X_train_sc, y_train)"
   ]
  },
  {
   "cell_type": "code",
   "execution_count": 74,
   "metadata": {},
   "outputs": [
    {
     "data": {
      "text/plain": [
       "{'metric': 'manhattan', 'n_neighbors': 5, 'weights': 'distance'}"
      ]
     },
     "execution_count": 74,
     "metadata": {},
     "output_type": "execute_result"
    }
   ],
   "source": [
    "knn_gridsearcher.best_params_"
   ]
  },
  {
   "cell_type": "markdown",
   "metadata": {},
   "source": [
    "Implement best params"
   ]
  },
  {
   "cell_type": "code",
   "execution_count": 75,
   "metadata": {},
   "outputs": [],
   "source": [
    "knn = KNeighborsClassifier(n_neighbors=5, weights='distance',metric='manhattan')\n",
    "knn.fit(X_train_sc,y_train)\n",
    "knn_preds = knn.predict(X_test_sc)"
   ]
  },
  {
   "cell_type": "markdown",
   "metadata": {},
   "source": [
    "With scaling:"
   ]
  },
  {
   "cell_type": "code",
   "execution_count": 76,
   "metadata": {},
   "outputs": [
    {
     "name": "stdout",
     "output_type": "stream",
     "text": [
      "Precision: 0.6032920288514888\n",
      "Recall 0.6985010706638116\n",
      "Fl-Score 0.6474149052297311\n"
     ]
    }
   ],
   "source": [
    "print(\"Precision:\",precision_score(y_test,knn_preds))\n",
    "print(\"Recall\",recall_score(y_test,knn_preds))\n",
    "print(\"Fl-Score\",f1_score(y_test,knn_preds))"
   ]
  },
  {
   "cell_type": "markdown",
   "metadata": {},
   "source": [
    "3. AdaBoost"
   ]
  },
  {
   "cell_type": "code",
   "execution_count": 77,
   "metadata": {},
   "outputs": [
    {
     "name": "stdout",
     "output_type": "stream",
     "text": [
      "Precision: 0.6016477857878476\n",
      "Recall 0.6254817987152034\n",
      "Fl-Score 0.6133333333333334\n"
     ]
    }
   ],
   "source": [
    "ada = AdaBoostClassifier(base_estimator=DecisionTreeClassifier())\n",
    "ada.fit(X_train,y_train)\n",
    "ada_preds = ada.predict(X_test)\n",
    "print(\"Precision:\",precision_score(y_test,ada_preds))\n",
    "print(\"Recall\",recall_score(y_test,ada_preds))\n",
    "print(\"Fl-Score\",f1_score(y_test,ada_preds))"
   ]
  },
  {
   "cell_type": "code",
   "execution_count": 78,
   "metadata": {},
   "outputs": [],
   "source": [
    "ada = AdaBoostClassifier(base_estimator=DecisionTreeClassifier())"
   ]
  },
  {
   "cell_type": "code",
   "execution_count": 79,
   "metadata": {},
   "outputs": [],
   "source": [
    "ada_params = {\n",
    "    'n_estimators': [100,150,200],\n",
    "    'base_estimator__max_depth': [1,2],\n",
    "    'learning_rate': [.9, 1.]\n",
    "}\n"
   ]
  },
  {
   "cell_type": "code",
   "execution_count": 80,
   "metadata": {},
   "outputs": [
    {
     "name": "stdout",
     "output_type": "stream",
     "text": [
      "0.5415567978061386\n"
     ]
    }
   ],
   "source": [
    "gs_ada = GridSearchCV(ada, param_grid=ada_params, cv=3)\n",
    "gs_ada.fit(X_train, y_train)\n",
    "print(gs_ada.best_score_)"
   ]
  },
  {
   "cell_type": "code",
   "execution_count": 81,
   "metadata": {},
   "outputs": [
    {
     "data": {
      "text/plain": [
       "{'base_estimator__max_depth': 2, 'learning_rate': 1.0, 'n_estimators': 200}"
      ]
     },
     "execution_count": 81,
     "metadata": {},
     "output_type": "execute_result"
    }
   ],
   "source": [
    "gs_ada.best_params_"
   ]
  },
  {
   "cell_type": "markdown",
   "metadata": {},
   "source": [
    "Implement best params"
   ]
  },
  {
   "cell_type": "code",
   "execution_count": 82,
   "metadata": {},
   "outputs": [],
   "source": [
    "ada = AdaBoostClassifier(base_estimator=DecisionTreeClassifier(max_depth=2),\n",
    "                        learning_rate= 1,\n",
    "                        n_estimators=200)\n",
    "ada.fit(X_train,y_train)\n",
    "ada_pred = ada.predict(X_test)"
   ]
  },
  {
   "cell_type": "code",
   "execution_count": 83,
   "metadata": {},
   "outputs": [
    {
     "name": "stdout",
     "output_type": "stream",
     "text": [
      "Precision: 0.6016477857878476\n",
      "Recall 0.6254817987152034\n",
      "Fl-Score 0.6133333333333334\n"
     ]
    }
   ],
   "source": [
    "print(\"Precision:\",precision_score(y_test,ada_preds))\n",
    "print(\"Recall\",recall_score(y_test,ada_preds))\n",
    "print(\"Fl-Score\",f1_score(y_test,ada_preds))"
   ]
  },
  {
   "cell_type": "markdown",
   "metadata": {},
   "source": [
    "4. Try Multinomial Naive Bayes:"
   ]
  },
  {
   "cell_type": "code",
   "execution_count": 89,
   "metadata": {},
   "outputs": [],
   "source": [
    "nb = BernoulliNB()\n",
    "nb.fit(X_train,y_train)\n",
    "nb_preds = nb.predict(X_test)"
   ]
  },
  {
   "cell_type": "code",
   "execution_count": 91,
   "metadata": {},
   "outputs": [
    {
     "name": "stdout",
     "output_type": "stream",
     "text": [
      "Bernoulli Naive Bayes with\n",
      "Precision: 0.5238706915007493\n",
      "Recall 0.523982869379015\n",
      "Fl-Score 0.5239267744352852\n"
     ]
    }
   ],
   "source": [
    "print(\"Bernoulli Naive Bayes with\")\n",
    "print(\"Precision:\",precision_score(y_test,nb_preds))\n",
    "print(\"Recall\",recall_score(y_test,nb_preds))\n",
    "print(\"Fl-Score\",f1_score(y_test,nb_preds))"
   ]
  },
  {
   "cell_type": "markdown",
   "metadata": {},
   "source": [
    "These are pretty bad - what are ways to improve it?"
   ]
  },
  {
   "cell_type": "markdown",
   "metadata": {},
   "source": [
    "5. Bagged Decision Tree"
   ]
  },
  {
   "cell_type": "code",
   "execution_count": 164,
   "metadata": {},
   "outputs": [],
   "source": [
    "#X=under_sample[features]\n",
    "#y=under_sample['class']"
   ]
  },
  {
   "cell_type": "code",
   "execution_count": 92,
   "metadata": {},
   "outputs": [],
   "source": [
    "X_train,X_test,y_train,y_test = train_test_split(X,y,test_size=0.33,stratify=y)"
   ]
  },
  {
   "cell_type": "code",
   "execution_count": 93,
   "metadata": {},
   "outputs": [
    {
     "data": {
      "text/html": [
       "<div>\n",
       "<style scoped>\n",
       "    .dataframe tbody tr th:only-of-type {\n",
       "        vertical-align: middle;\n",
       "    }\n",
       "\n",
       "    .dataframe tbody tr th {\n",
       "        vertical-align: top;\n",
       "    }\n",
       "\n",
       "    .dataframe thead th {\n",
       "        text-align: right;\n",
       "    }\n",
       "</style>\n",
       "<table border=\"1\" class=\"dataframe\">\n",
       "  <thead>\n",
       "    <tr style=\"text-align: right;\">\n",
       "      <th></th>\n",
       "      <th>Tree 1</th>\n",
       "      <th>Tree 2</th>\n",
       "      <th>Tree 3</th>\n",
       "      <th>Tree 4</th>\n",
       "      <th>Tree 5</th>\n",
       "      <th>Tree 6</th>\n",
       "      <th>Tree 7</th>\n",
       "      <th>Tree 8</th>\n",
       "      <th>Tree 9</th>\n",
       "      <th>Tree 10</th>\n",
       "    </tr>\n",
       "  </thead>\n",
       "  <tbody>\n",
       "    <tr>\n",
       "      <th>118816</th>\n",
       "      <td>1</td>\n",
       "      <td>0</td>\n",
       "      <td>1</td>\n",
       "      <td>1</td>\n",
       "      <td>1</td>\n",
       "      <td>0</td>\n",
       "      <td>1</td>\n",
       "      <td>0</td>\n",
       "      <td>0</td>\n",
       "      <td>0</td>\n",
       "    </tr>\n",
       "    <tr>\n",
       "      <th>84979</th>\n",
       "      <td>1</td>\n",
       "      <td>1</td>\n",
       "      <td>0</td>\n",
       "      <td>0</td>\n",
       "      <td>0</td>\n",
       "      <td>0</td>\n",
       "      <td>0</td>\n",
       "      <td>0</td>\n",
       "      <td>1</td>\n",
       "      <td>0</td>\n",
       "    </tr>\n",
       "    <tr>\n",
       "      <th>57751</th>\n",
       "      <td>1</td>\n",
       "      <td>1</td>\n",
       "      <td>1</td>\n",
       "      <td>1</td>\n",
       "      <td>1</td>\n",
       "      <td>1</td>\n",
       "      <td>1</td>\n",
       "      <td>1</td>\n",
       "      <td>0</td>\n",
       "      <td>1</td>\n",
       "    </tr>\n",
       "    <tr>\n",
       "      <th>134991</th>\n",
       "      <td>0</td>\n",
       "      <td>0</td>\n",
       "      <td>0</td>\n",
       "      <td>0</td>\n",
       "      <td>0</td>\n",
       "      <td>0</td>\n",
       "      <td>1</td>\n",
       "      <td>0</td>\n",
       "      <td>0</td>\n",
       "      <td>0</td>\n",
       "    </tr>\n",
       "    <tr>\n",
       "      <th>120643</th>\n",
       "      <td>0</td>\n",
       "      <td>0</td>\n",
       "      <td>0</td>\n",
       "      <td>0</td>\n",
       "      <td>1</td>\n",
       "      <td>0</td>\n",
       "      <td>1</td>\n",
       "      <td>0</td>\n",
       "      <td>1</td>\n",
       "      <td>0</td>\n",
       "    </tr>\n",
       "  </tbody>\n",
       "</table>\n",
       "</div>"
      ],
      "text/plain": [
       "        Tree 1  Tree 2  Tree 3  Tree 4  Tree 5  Tree 6  Tree 7  Tree 8  \\\n",
       "118816       1       0       1       1       1       0       1       0   \n",
       "84979        1       1       0       0       0       0       0       0   \n",
       "57751        1       1       1       1       1       1       1       1   \n",
       "134991       0       0       0       0       0       0       1       0   \n",
       "120643       0       0       0       0       1       0       1       0   \n",
       "\n",
       "        Tree 9  Tree 10  \n",
       "118816       0        0  \n",
       "84979        1        0  \n",
       "57751        0        1  \n",
       "134991       0        0  \n",
       "120643       1        0  "
      ]
     },
     "execution_count": 93,
     "metadata": {},
     "output_type": "execute_result"
    }
   ],
   "source": [
    "predictions = pd.DataFrame(index=X_test.index)\n",
    "for i in range(1,11):\n",
    "    X_sample = X_train.sample(n=X_train.shape[0], replace=True)\n",
    "    y_sample = y_train[X_sample.index]\n",
    "    t = DecisionTreeClassifier()\n",
    "    t.fit(X_sample, y_sample)\n",
    "    predictions['Tree {}'.format(i)] = t.predict(X_test)\n",
    "predictions.head()\n"
   ]
  },
  {
   "cell_type": "code",
   "execution_count": 94,
   "metadata": {},
   "outputs": [],
   "source": [
    "probs = predictions.mean(axis=1)\n",
    "bc_preds = (probs>=0.5)"
   ]
  },
  {
   "cell_type": "code",
   "execution_count": 95,
   "metadata": {},
   "outputs": [
    {
     "name": "stdout",
     "output_type": "stream",
     "text": [
      "Bagged Decision Tree with under_sampled data\n",
      "Precision: 0.5887850467289719\n",
      "Recall 0.7014989293361884\n",
      "Fl-Score 0.6402188782489739\n"
     ]
    }
   ],
   "source": [
    "print(\"Bagged Decision Tree with under_sampled data\")\n",
    "print(\"Precision:\",precision_score(y_test,bc_preds))\n",
    "print(\"Recall\",recall_score(y_test,bc_preds))\n",
    "print(\"Fl-Score\",f1_score(y_test,bc_preds))"
   ]
  },
  {
   "cell_type": "markdown",
   "metadata": {},
   "source": [
    "Recall score was higher, but precision and f1-score lower."
   ]
  },
  {
   "cell_type": "markdown",
   "metadata": {},
   "source": [
    "[Back to Table of Contents](#Table-of-Contents)"
   ]
  },
  {
   "cell_type": "markdown",
   "metadata": {},
   "source": [
    "### Step 4: Model Evaluation"
   ]
  },
  {
   "cell_type": "markdown",
   "metadata": {},
   "source": [
    "The best model I have implemented was the RandomForest Classifier:"
   ]
  },
  {
   "cell_type": "code",
   "execution_count": 100,
   "metadata": {
    "scrolled": true
   },
   "outputs": [
    {
     "name": "stdout",
     "output_type": "stream",
     "text": [
      "RF with 100 estimators, max_depth=30, min_sample_split=5\n",
      "Precision: 0.6900385749943272\n",
      "Recall 0.6511777301927195\n",
      "Fl-Score 0.6700451691087363\n"
     ]
    }
   ],
   "source": [
    "rf = RandomForestClassifier(n_estimators=100,max_depth=30,min_samples_split=5) \n",
    "rf.fit(X_train,y_train)\n",
    "rf_preds= rf.predict(X_test)\n",
    "print(\"RF with 100 estimators, max_depth=30, min_sample_split=5\")\n",
    "print(\"Precision:\",precision_score(y_test,rf_preds))\n",
    "print(\"Recall\",recall_score(y_test,rf_preds))\n",
    "print(\"Fl-Score\",f1_score(y_test,rf_preds));"
   ]
  },
  {
   "cell_type": "markdown",
   "metadata": {},
   "source": [
    "The model must be evaluated on to minimize False Negatives:\n",
    "\n",
    "**Precision (TP/ (TP + FP)) and Recall ( TP/(TP+FN))**<Br>\n",
    "**F-measures gives equal importance to precision and recall**"
   ]
  },
  {
   "cell_type": "code",
   "execution_count": 101,
   "metadata": {},
   "outputs": [],
   "source": [
    "def gen_cmat(model,X_text,y_test):\n",
    "    y_preds=model.predict(X_test)\n",
    "    cmat = confusion_matrix(y_test,y_preds)\n",
    "    #confusion matric df\n",
    "    cmat_df = pd.DataFrame(cmat, columns=['Pred No-Fraud','Pred Fraud'],\n",
    "                           index = ['Actual No-Fraud','Actual Fraud'])\n",
    "    return cmat_df"
   ]
  },
  {
   "cell_type": "markdown",
   "metadata": {},
   "source": [
    "RandomForest Confusion Matrix:"
   ]
  },
  {
   "cell_type": "code",
   "execution_count": 102,
   "metadata": {},
   "outputs": [
    {
     "data": {
      "text/html": [
       "<div>\n",
       "<style scoped>\n",
       "    .dataframe tbody tr th:only-of-type {\n",
       "        vertical-align: middle;\n",
       "    }\n",
       "\n",
       "    .dataframe tbody tr th {\n",
       "        vertical-align: top;\n",
       "    }\n",
       "\n",
       "    .dataframe thead th {\n",
       "        text-align: right;\n",
       "    }\n",
       "</style>\n",
       "<table border=\"1\" class=\"dataframe\">\n",
       "  <thead>\n",
       "    <tr style=\"text-align: right;\">\n",
       "      <th></th>\n",
       "      <th>Pred No-Fraud</th>\n",
       "      <th>Pred Fraud</th>\n",
       "    </tr>\n",
       "  </thead>\n",
       "  <tbody>\n",
       "    <tr>\n",
       "      <th>Actual No-Fraud</th>\n",
       "      <td>3304</td>\n",
       "      <td>1366</td>\n",
       "    </tr>\n",
       "    <tr>\n",
       "      <th>Actual Fraud</th>\n",
       "      <td>1629</td>\n",
       "      <td>3041</td>\n",
       "    </tr>\n",
       "  </tbody>\n",
       "</table>\n",
       "</div>"
      ],
      "text/plain": [
       "                 Pred No-Fraud  Pred Fraud\n",
       "Actual No-Fraud           3304        1366\n",
       "Actual Fraud              1629        3041"
      ]
     },
     "execution_count": 102,
     "metadata": {},
     "output_type": "execute_result"
    }
   ],
   "source": [
    "gen_cmat(rf,X_test,y_test)"
   ]
  },
  {
   "cell_type": "markdown",
   "metadata": {},
   "source": [
    "KNN Confusion Matrix"
   ]
  },
  {
   "cell_type": "code",
   "execution_count": 103,
   "metadata": {},
   "outputs": [
    {
     "data": {
      "text/html": [
       "<div>\n",
       "<style scoped>\n",
       "    .dataframe tbody tr th:only-of-type {\n",
       "        vertical-align: middle;\n",
       "    }\n",
       "\n",
       "    .dataframe tbody tr th {\n",
       "        vertical-align: top;\n",
       "    }\n",
       "\n",
       "    .dataframe thead th {\n",
       "        text-align: right;\n",
       "    }\n",
       "</style>\n",
       "<table border=\"1\" class=\"dataframe\">\n",
       "  <thead>\n",
       "    <tr style=\"text-align: right;\">\n",
       "      <th></th>\n",
       "      <th>Pred No-Fraud</th>\n",
       "      <th>Pred Fraud</th>\n",
       "    </tr>\n",
       "  </thead>\n",
       "  <tbody>\n",
       "    <tr>\n",
       "      <th>Actual No-Fraud</th>\n",
       "      <td>1111</td>\n",
       "      <td>3559</td>\n",
       "    </tr>\n",
       "    <tr>\n",
       "      <th>Actual Fraud</th>\n",
       "      <td>1211</td>\n",
       "      <td>3459</td>\n",
       "    </tr>\n",
       "  </tbody>\n",
       "</table>\n",
       "</div>"
      ],
      "text/plain": [
       "                 Pred No-Fraud  Pred Fraud\n",
       "Actual No-Fraud           1111        3559\n",
       "Actual Fraud              1211        3459"
      ]
     },
     "execution_count": 103,
     "metadata": {},
     "output_type": "execute_result"
    }
   ],
   "source": [
    "gen_cmat(knn,X_test,y_test)"
   ]
  },
  {
   "cell_type": "markdown",
   "metadata": {},
   "source": [
    "AdaBoost Confusion Matrix"
   ]
  },
  {
   "cell_type": "code",
   "execution_count": 104,
   "metadata": {},
   "outputs": [
    {
     "data": {
      "text/html": [
       "<div>\n",
       "<style scoped>\n",
       "    .dataframe tbody tr th:only-of-type {\n",
       "        vertical-align: middle;\n",
       "    }\n",
       "\n",
       "    .dataframe tbody tr th {\n",
       "        vertical-align: top;\n",
       "    }\n",
       "\n",
       "    .dataframe thead th {\n",
       "        text-align: right;\n",
       "    }\n",
       "</style>\n",
       "<table border=\"1\" class=\"dataframe\">\n",
       "  <thead>\n",
       "    <tr style=\"text-align: right;\">\n",
       "      <th></th>\n",
       "      <th>Pred No-Fraud</th>\n",
       "      <th>Pred Fraud</th>\n",
       "    </tr>\n",
       "  </thead>\n",
       "  <tbody>\n",
       "    <tr>\n",
       "      <th>Actual No-Fraud</th>\n",
       "      <td>2810</td>\n",
       "      <td>1860</td>\n",
       "    </tr>\n",
       "    <tr>\n",
       "      <th>Actual Fraud</th>\n",
       "      <td>1873</td>\n",
       "      <td>2797</td>\n",
       "    </tr>\n",
       "  </tbody>\n",
       "</table>\n",
       "</div>"
      ],
      "text/plain": [
       "                 Pred No-Fraud  Pred Fraud\n",
       "Actual No-Fraud           2810        1860\n",
       "Actual Fraud              1873        2797"
      ]
     },
     "execution_count": 104,
     "metadata": {},
     "output_type": "execute_result"
    }
   ],
   "source": [
    "gen_cmat(ada,X_test,y_test)"
   ]
  },
  {
   "cell_type": "code",
   "execution_count": 105,
   "metadata": {},
   "outputs": [
    {
     "data": {
      "text/html": [
       "<div>\n",
       "<style scoped>\n",
       "    .dataframe tbody tr th:only-of-type {\n",
       "        vertical-align: middle;\n",
       "    }\n",
       "\n",
       "    .dataframe tbody tr th {\n",
       "        vertical-align: top;\n",
       "    }\n",
       "\n",
       "    .dataframe thead th {\n",
       "        text-align: right;\n",
       "    }\n",
       "</style>\n",
       "<table border=\"1\" class=\"dataframe\">\n",
       "  <thead>\n",
       "    <tr style=\"text-align: right;\">\n",
       "      <th></th>\n",
       "      <th>Pred No-Fraud</th>\n",
       "      <th>Pred Fraud</th>\n",
       "    </tr>\n",
       "  </thead>\n",
       "  <tbody>\n",
       "    <tr>\n",
       "      <th>Actual No-Fraud</th>\n",
       "      <td>2382</td>\n",
       "      <td>2288</td>\n",
       "    </tr>\n",
       "    <tr>\n",
       "      <th>Actual Fraud</th>\n",
       "      <td>1394</td>\n",
       "      <td>3276</td>\n",
       "    </tr>\n",
       "  </tbody>\n",
       "</table>\n",
       "</div>"
      ],
      "text/plain": [
       "                 Pred No-Fraud  Pred Fraud\n",
       "Actual No-Fraud           2382        2288\n",
       "Actual Fraud              1394        3276"
      ]
     },
     "execution_count": 105,
     "metadata": {},
     "output_type": "execute_result"
    }
   ],
   "source": [
    "cmat = confusion_matrix(y_test,bc_preds)\n",
    "#confusion matric df\n",
    "cmat_df = pd.DataFrame(cmat, columns=['Pred No-Fraud','Pred Fraud'],\n",
    "                           index = ['Actual No-Fraud','Actual Fraud'])\n",
    "cmat_df"
   ]
  },
  {
   "cell_type": "code",
   "execution_count": 106,
   "metadata": {},
   "outputs": [],
   "source": [
    "def get_metrics(model,X_test,y_test):\n",
    "    y_preds=model.predict(X_test)\n",
    "    tn, fp, fn, tp = confusion_matrix(y_test, y_preds).ravel()\n",
    "    prec = tp/(tp+fp)\n",
    "    rec = tp/(tp+fn)\n",
    "    return (\"Precision:\"+str(prec) +\", Recall:\"+str(rec))"
   ]
  },
  {
   "cell_type": "code",
   "execution_count": 107,
   "metadata": {},
   "outputs": [
    {
     "data": {
      "text/plain": [
       "'Precision:0.6900385749943272, Recall:0.6511777301927195'"
      ]
     },
     "execution_count": 107,
     "metadata": {},
     "output_type": "execute_result"
    }
   ],
   "source": [
    "get_metrics(rf,X_test,y_test)"
   ]
  },
  {
   "cell_type": "code",
   "execution_count": 108,
   "metadata": {},
   "outputs": [
    {
     "data": {
      "text/plain": [
       "'Precision:0.4928754630948988, Recall:0.7406852248394005'"
      ]
     },
     "execution_count": 108,
     "metadata": {},
     "output_type": "execute_result"
    }
   ],
   "source": [
    "get_metrics(knn,X_test,y_test)"
   ]
  },
  {
   "cell_type": "code",
   "execution_count": 109,
   "metadata": {},
   "outputs": [
    {
     "data": {
      "text/plain": [
       "'Precision:0.6006012454369766, Recall:0.5989293361884368'"
      ]
     },
     "execution_count": 109,
     "metadata": {},
     "output_type": "execute_result"
    }
   ],
   "source": [
    "get_metrics(ada,X_test,y_test)"
   ]
  },
  {
   "cell_type": "markdown",
   "metadata": {},
   "source": [
    "[Back to Table of Contents](#Table-of-Contents)"
   ]
  },
  {
   "cell_type": "markdown",
   "metadata": {},
   "source": [
    "### Step 5: Next Steps"
   ]
  },
  {
   "cell_type": "markdown",
   "metadata": {},
   "source": [
    "My next steps would be to refine the model with additional tuning of my current models, additional validation testing, or trying some other models such as Support Vector Classifier and other techniques to balance the classes or compensate for them;<br>\n",
    "I would also do more times-series analysis, including evaluating stationary (whether the mean is constant over time) as this may be a feature that can improve the accuracy of my model."
   ]
  },
  {
   "cell_type": "code",
   "execution_count": null,
   "metadata": {},
   "outputs": [],
   "source": []
  }
 ],
 "metadata": {
  "kernelspec": {
   "display_name": "Python 3",
   "language": "python",
   "name": "python3"
  },
  "language_info": {
   "codemirror_mode": {
    "name": "ipython",
    "version": 3
   },
   "file_extension": ".py",
   "mimetype": "text/x-python",
   "name": "python",
   "nbconvert_exporter": "python",
   "pygments_lexer": "ipython3",
   "version": "3.7.1"
  }
 },
 "nbformat": 4,
 "nbformat_minor": 2
}
